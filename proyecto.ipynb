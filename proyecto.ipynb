{
 "cells": [
  {
   "cell_type": "markdown",
   "metadata": {},
   "source": [
    "# Proyecto Reconocimiento Facial - IIC3724\n",
    "\n",
    "---\n",
    "\n",
    "Felipe Domínguez - 1562188J\n",
    "\n",
    "Sebastián Carreño - 15639746\n",
    "\n",
    "Diego Iruretagoyena - 14619164"
   ]
  },
  {
   "cell_type": "markdown",
   "metadata": {},
   "source": [
    "## Setup"
   ]
  },
  {
   "cell_type": "code",
   "execution_count": 1,
   "metadata": {
    "colab": {},
    "colab_type": "code",
    "id": "9ymu3p_M0kYe",
    "tags": []
   },
   "outputs": [
    {
     "output_type": "stream",
     "name": "stderr",
     "text": "Using TensorFlow backend.\n"
    }
   ],
   "source": [
    "import cv2\n",
    "import os\n",
    "import numpy as np\n",
    "import pandas as pd\n",
    "\n",
    "from datetime import datetime\n",
    "from collections import defaultdict\n",
    "\n",
    "from pybalu.io import imread\n",
    "from pybalu.feature_selection import clean, sfs\n",
    "from pybalu.feature_transformation import normalize, pca\n",
    "from pybalu.feature_extraction import haralick_features, lbp_features, gabor_features, hog_features, basic_int_features, fourier_features, gupta_features, flusser_features\n",
    "\n",
    "from keras.models import Sequential\n",
    "from keras.layers import Activation\n",
    "from keras.optimizers import SGD, Adam\n",
    "from keras.layers import Dense\n",
    "from keras.utils import np_utils\n",
    "from keras.callbacks import EarlyStopping\n",
    "\n",
    "from tensorflow.keras.callbacks import CSVLogger, Callback\n",
    "\n",
    "from sklearn.neighbors import KNeighborsClassifier\n",
    "from sklearn.svm import SVC\n",
    "from sklearn.ensemble import AdaBoostClassifier\n",
    "from sklearn.metrics import accuracy_score, confusion_matrix\n",
    "\n",
    "import matplotlib.pyplot as plt\n",
    "import matplotlib.image as mpimg\n",
    "\n",
    "plt.style.use('ggplot')"
   ]
  },
  {
   "cell_type": "code",
   "execution_count": null,
   "metadata": {},
   "outputs": [],
   "source": [
    "DATASET_PATH = 'FaceMask166'\n",
    "FEATURES_PATH = 'features'\n",
    "NUM_OF_CLASSES = 166"
   ]
  },
  {
   "cell_type": "markdown",
   "metadata": {},
   "source": [
    "## Utils"
   ]
  },
  {
   "cell_type": "code",
   "execution_count": 59,
   "metadata": {},
   "outputs": [],
   "source": [
    "def open_image(image_path):\n",
    "    image = cv2.imread(f'{DATASET_PATH}/{image_path}')\n",
    "    return image\n",
    "\n",
    "def extract_lbp(image, hdiv, vdiv, grayscale=True, mapping='nri_uniform', channel=None):\n",
    "    \"\"\"\n",
    "    Interface for pybalu implementation\n",
    "    \"\"\"\n",
    "\n",
    "    if grayscale:\n",
    "        image = cv2.cvtColor(image, cv2.COLOR_BGR2GRAY)\n",
    "    elif channel != None:\n",
    "        lbp_features(image[:, :, channel], hdiv=hdiv, vdiv=vdiv, mapping=mapping)\n",
    "\n",
    "    return lbp_features(image, hdiv=hdiv, vdiv=vdiv, mapping=mapping)\n",
    "\n",
    "def extract_features(images):\n",
    "    \"\"\"\n",
    "    Returns a hash with all features extracted\n",
    "    \"\"\"\n",
    "\n",
    "    features = defaultdict(list)\n",
    "    \n",
    "    for i, image in enumerate(images):\n",
    "        print(f'Processing image {i}...')\n",
    "\n",
    "        grayscale_image = cv2.cvtColor(image, cv2.COLOR_BGR2GRAY)\n",
    "\n",
    "        features['intensity'].append(basic_int_features(grayscale_image))\n",
    "        features['fourier'].append(fourier_features(grayscale_image))\n",
    "        features['haralick'].append(haralick_features(grayscale_image))\n",
    "        features['gabor'].append(gabor_features(grayscale_image))\n",
    "        features['hog_1_1_4'].append(hog_features(grayscale_image, v_windows=1, h_windows=1, n_bins=4))\n",
    "        features['hog_5_5_8'].append(hog_features(grayscale_image, v_windows=5, h_windows=5, n_bins=8))\n",
    "\n",
    "        features['lbp_bw_1_1'].append(extract_lbp(image, 1, 1))\n",
    "        features['lbp_bw_2_2'].append(extract_lbp(image, 2, 2))\n",
    "        features['lbp_bw_4_8'].append(extract_lbp(image, 4, 8))\n",
    "        features['lbp_bw_8_4'].append(extract_lbp(image, 8, 4))\n",
    "\n",
    "        features['lbp_red_8_4'].append(extract_lbp(image, 8, 4, channel=0))\n",
    "        features['lbp_green_8_4'].append(extract_lbp(image, 8, 4, channel=1))\n",
    "        features['lbp_blue_8_4'].append(extract_lbp(image, 8, 4, channel=2))\n",
    "\n",
    "    for key in features.keys():\n",
    "        features[key] = np.array(features[key])\n",
    "\n",
    "    return features\n",
    "\n",
    "def nn_clasiffier(options):\n",
    "    input_dim = options['input_dim']\n",
    "    d1 = options['d1']\n",
    "    d2 = options['d2']\n",
    "    opt = options['opt']\n",
    "\n",
    "    model = Sequential()\n",
    "    model.add(Dense(d1, input_dim=input_dim, init='uniform', activation='relu'))\n",
    "    model.add(Dense(d2, activation='relu', kernel_initializer='uniform'))\n",
    "    model.add(Dense(options['n_clases']))\n",
    "    model.add(Activation('softmax'))\n",
    "\n",
    "    if opt == 'adam':\n",
    "        optimizer = Adam()\n",
    "    elif opt == 'sgd':\n",
    "        optimizer = SGD()\n",
    "\n",
    "    model.compile(loss='binary_crossentropy', optimizer=optimizer, metrics=['accuracy'])\n",
    "\n",
    "    return model\n",
    "\n",
    "def get_classifier(classifier, options=None):\n",
    "    \"\"\"\n",
    "    Returns desired clasiffier\n",
    "    \"\"\"\n",
    "\n",
    "    if classifier == 'knn':\n",
    "        return KNeighborsClassifier(n_neighbors=3)\n",
    "    elif classifier == 'svm':\n",
    "        return SVC(kernel='sigmoid', gamma=0.01, C=0.01)\n",
    "    elif classifier == 'ada':\n",
    "        return AdaBoostClassifier(n_estimators=100)\n",
    "    elif classifier == 'nn':\n",
    "        return nn_clasiffier(options)\n",
    "\n",
    "def normalize_each_class(train_features, val_features, test_features):\n",
    "    \"\"\"\n",
    "    input_features: hash where each key contains a np.array with extracted features\n",
    "\n",
    "    It normalizes each class in train_features, and then normalizes test_features using a,b values from train examples.\n",
    "    \"\"\"\n",
    "    \n",
    "    train_features_norm = {}\n",
    "    val_features_norm = {}\n",
    "    test_features_norm = {}\n",
    "\n",
    "    for key in train_features.keys():\n",
    "        train_norm, a, b = normalize(train_features[key])\n",
    "        val_norm = val_features[key] * a + b\n",
    "        test_norm = test_features[key] * a + b\n",
    "        \n",
    "        train_features_norm[key] = train_norm\n",
    "        val_features_norm[key] = val_norm\n",
    "        test_features_norm[key] = test_norm\n",
    "        \n",
    "    return train_features_norm, val_features_norm, test_features_norm\n",
    "\n",
    "def plot_nn_csv(file_name):\n",
    "    \"\"\"\n",
    "    Plots neural model from csv file saved in callbacks\n",
    "    \"\"\"\n",
    "\n",
    "    file = pd.read_csv(file_name)\n",
    "\n",
    "    (fig, axs) = plt.subplots(2, 1, figsize=(10, 10))\n",
    "\n",
    "    axs[0].plot(file['epoch'], file['loss'])\n",
    "    axs[0].set_title('Loss by epoch')\n",
    "    axs[0].set_xlabel('Epoch #')\n",
    "    axs[0].set_ylabel('Loss')\n",
    "\n",
    "    axs[1].plot(file['epoch'], file['accuracy'])\n",
    "    axs[1].set_title('Train accuracy')\n",
    "    axs[1].set_xlabel('Epoch #')\n",
    "    axs[1].set_ylabel('Accuracy')\n",
    "\n",
    "    plt.tight_layout()\n",
    "\n",
    "    plt.savefig(f\"{file_name.split('.csv')[0]}.png\")\n",
    "    plt.show()\n",
    "\n",
    "def plot_images(image_1, image_2):\n",
    "    (fig, axs) = plt.subplots(1, 2, figsize=(15, 15))\n",
    "    axs[0].imshow(image_1)\n",
    "    axs[1].imshow(image_2)\n",
    "\n",
    "    plt.tight_layout()\n",
    "    plt.show()\n",
    "\n",
    "def concat_features(features_hash):\n",
    "    \"\"\"\n",
    "    Return a np.array with all features concatenated\n",
    "    \"\"\"\n",
    "\n",
    "    return np.concatenate(list(features_hash.values()), axis=1)\n",
    "\n",
    "def save_features(features, path):\n",
    "    for key in features.keys():\n",
    "        features_df = pd.DataFrame(data=features[key])\n",
    "        features_df.to_csv(f'{path}/{key}.csv', header=True, index=False)\n",
    "\n",
    "def load_features(path):\n",
    "    features = {}\n",
    "\n",
    "    for file_name in os.listdir(path):\n",
    "        if file_name.endswith('csv'):\n",
    "            feature_name = file_name.split('.')[0]\n",
    "            features[feature_name] = pd.read_csv(f'{path}/{file_name}').to_numpy()\n",
    "\n",
    "    return features\n"
   ]
  },
  {
   "cell_type": "markdown",
   "metadata": {},
   "source": [
    "## Load Data"
   ]
  },
  {
   "cell_type": "markdown",
   "metadata": {},
   "source": [
    "Para simplificar algunas cosas, el suefo F000166 lo renombramos a F000000 en la base de datos"
   ]
  },
  {
   "cell_type": "code",
   "execution_count": null,
   "metadata": {
    "colab": {},
    "colab_type": "code",
    "id": "cYceysTCyruT",
    "outputId": "d4b03e86-bccf-4cfe-c404-7a500b19f6ea",
    "tags": []
   },
   "outputs": [],
   "source": [
    "images_names = sorted([file_name for file_name in os.listdir(DATASET_PATH) if file_name.endswith('jpg')])\n",
    "images_names = images_names[:(NUM_OF_CLASSES * 6)]\n",
    "print(images_names[-1])"
   ]
  },
  {
   "cell_type": "code",
   "execution_count": 72,
   "metadata": {
    "colab": {},
    "colab_type": "code",
    "id": "NqBea5KIzzk5",
    "outputId": "ea00b539-9c2e-469e-8514-374d495505eb",
    "tags": []
   },
   "outputs": [],
   "source": [
    "TRAIN_NAMES = sorted([i for i in images_names if (i.endswith('01.jpg') or i.endswith('02.jpg') or i.endswith('03.jpg'))])\n",
    "VALIDATION_NAMES = sorted([i for i in images_names if i.endswith('04.jpg')])\n",
    "TEST_NAMES = sorted([i for i in images_names if (i.endswith('05.jpg') or i.endswith('06.jpg'))])\n",
    "\n",
    "Y_TRAIN = np.array([int(image_name.split('_')[0][2:]) for image_name in train_names]).astype(int)\n",
    "Y_VAL = np.array([int(image_name.split('_')[0][2:]) for image_name in validation_names]).astype(int)\n",
    "Y_TEST = np.array([int(image_name.split('_')[0][2:]) for image_name in test_names]).astype(int)\n",
    "\n",
    "print(y_train[-1])\n",
    "\n",
    "TRAIN_IMAGES = [open_image(image_path)[:128,:] for image_path in train_names]\n",
    "VAL_IMAGES = [open_image(image_path)[:128,:] for image_path in validation_names]\n",
    "TEST_IMAGES = [open_image(image_path)[:128,:] for image_path in test_names]\n",
    "\n",
    "def build_dataset(n_clases):\n",
    "    limit = n_clases * 6\n",
    "\n",
    "    dataset = {}\n",
    "    dataset['n_clases'] = n_clases\n",
    "    dataset['limit'] = limit\n",
    "    dataset['y_train'] = Y_TRAIN[:limit]\n",
    "    dataset['y_val'] = Y_VAL[:limit]\n",
    "    dataset['y_test'] = Y_TEST[:limit]\n",
    "    dataset['train_images'] = TRAIN_IMAGES[:limit]\n",
    "    dataset['val_images'] = VAL_IMAGES[:limit]\n",
    "    dataset['test_images'] = TEST_IMAGES[:limit]\n",
    "    dataset['x_train'] = []\n",
    "    dataset['x_val'] = []\n",
    "    dataset['x_test'] = []\n",
    "\n",
    "    return dataset"
   ]
  },
  {
   "cell_type": "code",
   "execution_count": 73,
   "metadata": {},
   "outputs": [],
   "source": [
    "# Definir los distintos conjuntos\n",
    "datasets = {}\n",
    "datasets['dataset_16'] = build_dataset(16)\n",
    "datasets['dataset_40'] = build_dataset(40)\n",
    "datasets['dataset_100'] = build_dataset(100)\n",
    "datasets['dataset_166'] = build_dataset(166)"
   ]
  },
  {
   "cell_type": "code",
   "execution_count": null,
   "metadata": {
    "colab": {},
    "colab_type": "code",
    "id": "8fojkf-3hocr",
    "outputId": "601e7d5d-6e0f-4cd8-ed11-f24877932183"
   },
   "outputs": [],
   "source": [
    "plot_images(TRAIN_IMAGES[0], TEST_IMAGES[0])"
   ]
  },
  {
   "cell_type": "markdown",
   "metadata": {},
   "source": [
    "## Get Features"
   ]
  },
  {
   "cell_type": "code",
   "execution_count": 65,
   "metadata": {
    "colab": {},
    "colab_type": "code",
    "id": "Vi6NbFE8zzvd",
    "outputId": "6f6aeb8a-b7bd-45c2-ebc0-aa9880d0645c",
    "tags": []
   },
   "outputs": [],
   "source": [
    "LOAD = True\n",
    "\n",
    "if LOAD:\n",
    "    # Option 1: read features from csv files\n",
    "    features_train_hash = load_features(f'{FEATURES_PATH}/train')\n",
    "    features_val_hash = load_features(f'{FEATURES_PATH}/val')\n",
    "    features_test_hash = load_features(f'{FEATURES_PATH}/test')\n",
    "\n",
    "else:\n",
    "    # Option 2: extract features\n",
    "    features_train_hash = extract_features(train_images)\n",
    "    features_val_hash = extract_features(val_images)\n",
    "    features_test_hash = extract_features(test_images)\n",
    "\n",
    "    save_features(features_train_hash, path=f'{FEATURES_PATH}/train')\n",
    "    save_features(features_val_hash, path=f'{FEATURES_PATH}/val')\n",
    "    save_features(features_test_hash, path=f'{FEATURES_PATH}/test')"
   ]
  },
  {
   "cell_type": "markdown",
   "metadata": {},
   "source": [
    "## Preprocessing"
   ]
  },
  {
   "cell_type": "code",
   "execution_count": 66,
   "metadata": {},
   "outputs": [],
   "source": [
    "# TODO: Preguntar al profe\n",
    "\n",
    "# NORMALIZE\n",
    "train_features_norm, val_features_norm, test_features_norm = normalize_each_class(\n",
    "    features_train_hash, \n",
    "    features_val_hash, \n",
    "    features_test_hash\n",
    ")"
   ]
  },
  {
   "cell_type": "code",
   "execution_count": 67,
   "metadata": {
    "tags": []
   },
   "outputs": [],
   "source": [
    "features_train_concat = concat_features(train_features_norm)\n",
    "features_val_concat = concat_features(val_features_norm)\n",
    "features_test_concat = concat_features(test_features_norm)\n",
    "\n",
    "print(features_train_concat.shape)\n",
    "print(features_val_concat.shape)\n",
    "print(features_test_concat.shape)"
   ]
  },
  {
   "cell_type": "code",
   "execution_count": 68,
   "metadata": {
    "tags": []
   },
   "outputs": [],
   "source": [
    "# CLEAN\n",
    "clean_indexes = clean(features_train_concat)\n",
    "\n",
    "train_features_cleaned = features_train_concat[:, clean_indexes]\n",
    "val_features_cleaned = features_val_concat[:, clean_indexes]\n",
    "test_features_cleaned = features_test_concat[:, clean_indexes]\n",
    "\n",
    "print(train_features_cleaned.shape)\n",
    "print(val_features_cleaned.shape)\n",
    "print(test_features_cleaned.shape)"
   ]
  },
  {
   "cell_type": "code",
   "execution_count": 69,
   "metadata": {},
   "outputs": [],
   "source": [
    "TRAIN_FEATURES_CONCAT = np.nan_to_num(train_features_cleaned).astype(float)\n",
    "VAL_FEATURES_CONCAT = np.nan_to_num(val_features_cleaned).astype(float)\n",
    "TEST_FEATURES_CONCAT = np.nan_to_num(test_features_cleaned).astype(float)"
   ]
  },
  {
   "cell_type": "code",
   "execution_count": 74,
   "metadata": {
    "tags": []
   },
   "outputs": [],
   "source": [
    "def add_features_to_dataset(datasets):\n",
    "    for key in datasets.keys():\n",
    "        datasets[key]['x_train'] = TRAIN_FEATURES_CONCAT[:datasets[key]['limit']]\n",
    "        datasets[key]['x_val'] = VAL_FEATURES_CONCAT[:datasets[key]['limit']]\n",
    "        datasets[key]['x_test'] = TEST_FEATURES_CONCAT[:datasets[key]['limit']]\n",
    "\n",
    "    return datasets\n",
    "\n",
    "datasets = add_features_to_dataset(datasets)"
   ]
  },
  {
   "cell_type": "markdown",
   "metadata": {},
   "source": [
    "# Estrategias"
   ]
  },
  {
   "cell_type": "markdown",
   "metadata": {},
   "source": [
    "Cabe destacar que como preprocesamiento de cada estrategia se hace un normalizado y luego un clean. De esta manera se evita repetir código.\n",
    "De todas formas ambos pasos fueron nombrados en cada estrategia."
   ]
  },
  {
   "cell_type": "markdown",
   "metadata": {},
   "source": [
    "## Dataset 1: 16 clases"
   ]
  },
  {
   "cell_type": "code",
   "execution_count": 75,
   "metadata": {
    "tags": []
   },
   "outputs": [
    {
     "output_type": "stream",
     "name": "stdout",
     "text": "(96, 4347)\n"
    }
   ],
   "source": [
    "DATASET_16 = datasets['dataset_16']\n",
    "\n",
    "print(DATASET_16['x_train'].shape)"
   ]
  },
  {
   "cell_type": "code",
   "execution_count": null,
   "metadata": {},
   "outputs": [],
   "source": [
    "# PCA100\n",
    "train_pca_100, _, A, Xm, _ = pca(DATASET_16['x_train'], n_components=100)\n",
    "val_pca_100 = np.matmul(DATASET_16['x_val'] - Xm, A)\n",
    "test_pca_100 = np.matmul(DATASET_16['x_test'] - Xm, A)"
   ]
  },
  {
   "cell_type": "code",
   "execution_count": null,
   "metadata": {
    "tags": []
   },
   "outputs": [],
   "source": [
    "# SFS\n",
    "sfs_indexes = sfs(DATASET_16['x_train'], DATASET_16['y_train'], n_features=5, method='fisher', show=True)\n",
    "sfs_indexes = sfs(DATASET_16['x_train'], DATASET_16['y_train'], n_features=10, method='fisher', show=True)\n",
    "sfs_indexes = sfs(DATASET_16['x_train'], DATASET_16['y_train'], n_features=15, method='fisher', show=True)\n",
    "sfs_indexes = sfs(DATASET_16['x_train'], DATASET_16['y_train'], n_features=20, method='fisher', show=True)\n",
    "sfs_indexes = sfs(DATASET_16['x_train'], DATASET_16['y_train'], n_features=25, method='fisher', show=True)\n",
    "\n",
    "\n",
    "train_sfs_15 = DATASET_16['x_train'][:, sfs_indexes]\n",
    "val_sfs_15 = DATASET_16['x_val'][:, sfs_indexes]\n",
    "test_sfs_15 = DATASET_16['x_test'][:, sfs_indexes]"
   ]
  },
  {
   "cell_type": "code",
   "execution_count": null,
   "metadata": {
    "tags": []
   },
   "outputs": [],
   "source": [
    "# SFS take to long, let's print this indexes for further loading\n",
    "print(list(sfs_indexes))\n",
    "# s_sfs = [0, 2360, 3699, 710, 3458, 1516, 68, 267, 949, 235, 2446, 3465, 1517, 483, 229]"
   ]
  },
  {
   "cell_type": "markdown",
   "metadata": {},
   "source": [
    "### Estrategia 1\n",
    "\n",
    "    NORM - CLEAN - SFS15 - KNN3"
   ]
  },
  {
   "cell_type": "code",
   "execution_count": 53,
   "metadata": {
    "tags": []
   },
   "outputs": [
    {
     "output_type": "stream",
     "name": "stdout",
     "text": "\nTrain Accuracy: 75.0\nVal Accuracy: 12.5\n\n[[1 0 0 0 0 0 0 0 0 0 0 0 0 0 0 0]\n [1 0 0 0 0 0 0 0 0 0 0 0 0 0 0 0]\n [0 0 1 0 0 0 0 0 0 0 0 0 0 0 0 0]\n [0 1 0 0 0 0 0 0 0 0 0 0 0 0 0 0]\n [1 0 0 0 0 0 0 0 0 0 0 0 0 0 0 0]\n [0 1 0 0 0 0 0 0 0 0 0 0 0 0 0 0]\n [0 1 0 0 0 0 0 0 0 0 0 0 0 0 0 0]\n [0 0 0 0 1 0 0 0 0 0 0 0 0 0 0 0]\n [0 1 0 0 0 0 0 0 0 0 0 0 0 0 0 0]\n [0 1 0 0 0 0 0 0 0 0 0 0 0 0 0 0]\n [0 1 0 0 0 0 0 0 0 0 0 0 0 0 0 0]\n [0 0 0 0 1 0 0 0 0 0 0 0 0 0 0 0]\n [0 1 0 0 0 0 0 0 0 0 0 0 0 0 0 0]\n [0 0 0 0 1 0 0 0 0 0 0 0 0 0 0 0]\n [0 0 1 0 0 0 0 0 0 0 0 0 0 0 0 0]\n [0 0 0 0 1 0 0 0 0 0 0 0 0 0 0 0]]\n"
    }
   ],
   "source": [
    "# KNN 3\n",
    "classifier = get_classifier('knn')\n",
    "classifier.fit(train_sfs_15, DATASET_16['y_train'])\n",
    "\n",
    "train_pred = classifier.predict(train_sfs_15)\n",
    "val_pred = classifier.predict(val_sfs_15)\n",
    "\n",
    "train_accuracy = accuracy_score(DATASET_16['y_train'], train_pred) * 100\n",
    "val_accuracy = accuracy_score(DATASET_16['y_val'], val_pred) * 100\n",
    "\n",
    "conf_matrix = confusion_matrix(DATASET_16['y_val'], val_pred)\n",
    "\n",
    "print(f'\\nTrain Accuracy: {train_accuracy}')\n",
    "print(f'Val Accuracy: {val_accuracy}\\n')\n",
    "\n",
    "print(conf_matrix)"
   ]
  },
  {
   "cell_type": "markdown",
   "metadata": {},
   "source": [
    "### Estrategia 2\n",
    "\n",
    "    NORM - CLEAN - SFS15 - ADA"
   ]
  },
  {
   "cell_type": "code",
   "execution_count": 54,
   "metadata": {
    "tags": []
   },
   "outputs": [],
   "source": [
    "# ADA\n",
    "classifier = get_classifier('ada')\n",
    "classifier.fit(train_sfs_15, DATASET_16['y_train'])\n",
    "\n",
    "train_pred = classifier.predict(train_sfs_15)\n",
    "val_pred = classifier.predict(val_sfs_15)\n",
    "\n",
    "train_accuracy = accuracy_score(DATASET_16['y_train'], train_pred) * 100\n",
    "val_accuracy = accuracy_score(DATASET_16['y_test'], val_pred) * 100\n",
    "\n",
    "conf_matrix = confusion_matrix(DATASET_16['y_test'], val_pred)\n",
    "\n",
    "print(f'\\nTrain Accuracy: {train_accuracy}')\n",
    "print(f'Val Accuracy: {val_accuracy}\\n')\n",
    "\n",
    "print(conf_matrix)"
   ]
  },
  {
   "cell_type": "markdown",
   "metadata": {},
   "source": [
    "### Estrategia 3\n",
    "\n",
    "    NORM - CLEAN - PCA - KNN3"
   ]
  },
  {
   "cell_type": "markdown",
   "metadata": {},
   "source": [
    "### Estrategia 4\n",
    "\n",
    "    NORM - CLEAN - PCA - NN"
   ]
  },
  {
   "cell_type": "markdown",
   "metadata": {},
   "source": [
    "### Estrategia 5\n",
    "\n",
    "    NORM - CLEAN - PCA - SFS15 - KNN3"
   ]
  },
  {
   "cell_type": "markdown",
   "metadata": {},
   "source": [
    "### Estrategia 6\n",
    "\n",
    "                        - PCA30 - \n",
    "      NORM - CLEAN  |              | - SFS15 - NN\n",
    "                        - SFS15 - \n"
   ]
  },
  {
   "cell_type": "markdown",
   "metadata": {},
   "source": [
    "### Estrategia 7\n",
    "\n",
    "    NORM - CLEAN - NN"
   ]
  },
  {
   "cell_type": "code",
   "execution_count": 62,
   "metadata": {
    "tags": []
   },
   "outputs": [
    {
     "output_type": "stream",
     "name": "stdout",
     "text": "[[1. 0. 0. 0. 0. 0. 0. 0. 0. 0. 0. 0. 0. 0. 0. 0.]\n [1. 0. 0. 0. 0. 0. 0. 0. 0. 0. 0. 0. 0. 0. 0. 0.]\n [1. 0. 0. 0. 0. 0. 0. 0. 0. 0. 0. 0. 0. 0. 0. 0.]\n [0. 1. 0. 0. 0. 0. 0. 0. 0. 0. 0. 0. 0. 0. 0. 0.]\n [0. 1. 0. 0. 0. 0. 0. 0. 0. 0. 0. 0. 0. 0. 0. 0.]\n [0. 1. 0. 0. 0. 0. 0. 0. 0. 0. 0. 0. 0. 0. 0. 0.]\n [0. 0. 1. 0. 0. 0. 0. 0. 0. 0. 0. 0. 0. 0. 0. 0.]\n [0. 0. 1. 0. 0. 0. 0. 0. 0. 0. 0. 0. 0. 0. 0. 0.]\n [0. 0. 1. 0. 0. 0. 0. 0. 0. 0. 0. 0. 0. 0. 0. 0.]\n [0. 0. 0. 1. 0. 0. 0. 0. 0. 0. 0. 0. 0. 0. 0. 0.]\n [0. 0. 0. 1. 0. 0. 0. 0. 0. 0. 0. 0. 0. 0. 0. 0.]\n [0. 0. 0. 1. 0. 0. 0. 0. 0. 0. 0. 0. 0. 0. 0. 0.]\n [0. 0. 0. 0. 1. 0. 0. 0. 0. 0. 0. 0. 0. 0. 0. 0.]\n [0. 0. 0. 0. 1. 0. 0. 0. 0. 0. 0. 0. 0. 0. 0. 0.]\n [0. 0. 0. 0. 1. 0. 0. 0. 0. 0. 0. 0. 0. 0. 0. 0.]\n [0. 0. 0. 0. 0. 1. 0. 0. 0. 0. 0. 0. 0. 0. 0. 0.]]\n"
    }
   ],
   "source": [
    "print(categorical_train)"
   ]
  },
  {
   "cell_type": "code",
   "execution_count": 60,
   "metadata": {
    "tags": []
   },
   "outputs": [
    {
     "output_type": "stream",
     "name": "stdout",
     "text": "Epoch 1/100\n16/16 [==============================] - 2s 115ms/step - loss: 0.2325 - accuracy: 0.9258\nEpoch 2/100\n16/16 [==============================] - 0s 16ms/step - loss: 0.0155 - accuracy: 0.9961\nEpoch 3/100\n16/16 [==============================] - 0s 16ms/step - loss: 0.0499 - accuracy: 0.9922\nEpoch 4/100\n16/16 [==============================] - 0s 23ms/step - loss: 9.0203e-04 - accuracy: 1.0000\nEpoch 5/100\n16/16 [==============================] - 0s 11ms/step - loss: 5.9470e-05 - accuracy: 1.0000\nEpoch 6/100\n16/16 [==============================] - 0s 11ms/step - loss: 1.1505e-05 - accuracy: 1.0000\nEpoch 7/100\n16/16 [==============================] - 0s 21ms/step - loss: 6.5648e-06 - accuracy: 1.0000\nEpoch 8/100\n16/16 [==============================] - 0s 14ms/step - loss: 4.1146e-06 - accuracy: 1.0000\nEpoch 9/100\n16/16 [==============================] - 0s 17ms/step - loss: 3.2321e-06 - accuracy: 1.0000\nEpoch 10/100\n16/16 [==============================] - 0s 14ms/step - loss: 2.7573e-06 - accuracy: 1.0000\nEpoch 11/100\n16/16 [==============================] - 0s 10ms/step - loss: 2.2098e-06 - accuracy: 1.0000\nEpoch 12/100\n16/16 [==============================] - 0s 16ms/step - loss: 2.0973e-06 - accuracy: 1.0000\nEpoch 13/100\n16/16 [==============================] - 0s 15ms/step - loss: 1.6260e-06 - accuracy: 1.0000\nEpoch 14/100\n16/16 [==============================] - 0s 14ms/step - loss: 1.4476e-06 - accuracy: 1.0000\nEpoch 15/100\n16/16 [==============================] - 0s 16ms/step - loss: 1.2557e-06 - accuracy: 1.0000\nEpoch 16/100\n16/16 [==============================] - 0s 16ms/step - loss: 1.0538e-06 - accuracy: 1.0000\nEpoch 17/100\n16/16 [==============================] - 0s 15ms/step - loss: 9.5371e-07 - accuracy: 1.0000\nEpoch 18/100\n16/16 [==============================] - 0s 23ms/step - loss: 9.0085e-07 - accuracy: 1.0000\nEpoch 19/100\n16/16 [==============================] - 0s 11ms/step - loss: 8.0958e-07 - accuracy: 1.0000\nEpoch 20/100\n16/16 [==============================] - 0s 14ms/step - loss: 7.1202e-07 - accuracy: 1.0000\nEpoch 21/100\n16/16 [==============================] - 0s 14ms/step - loss: 6.6754e-07 - accuracy: 1.0000\nEpoch 22/100\n16/16 [==============================] - 0s 19ms/step - loss: 6.0724e-07 - accuracy: 1.0000\nEpoch 23/100\n16/16 [==============================] - 0s 13ms/step - loss: 5.9373e-07 - accuracy: 1.0000\nEpoch 24/100\n16/16 [==============================] - 0s 17ms/step - loss: 5.2248e-07 - accuracy: 1.0000\nEpoch 25/100\n16/16 [==============================] - 0s 12ms/step - loss: 5.1177e-07 - accuracy: 1.0000\nEpoch 26/100\n16/16 [==============================] - 0s 14ms/step - loss: 4.6870e-07 - accuracy: 1.0000\nEpoch 27/100\n16/16 [==============================] - 0s 19ms/step - loss: 4.3796e-07 - accuracy: 1.0000\nEpoch 28/100\n16/16 [==============================] - 0s 15ms/step - loss: 4.0304e-07 - accuracy: 1.0000\nEpoch 29/100\n16/16 [==============================] - 0s 14ms/step - loss: 3.9116e-07 - accuracy: 1.0000\nEpoch 30/100\n16/16 [==============================] - 0s 20ms/step - loss: 3.6718e-07 - accuracy: 1.0000\nEpoch 31/100\n16/16 [==============================] - 0s 13ms/step - loss: 3.4762e-07 - accuracy: 1.0000\nEpoch 32/100\n16/16 [==============================] - 0s 15ms/step - loss: 3.2294e-07 - accuracy: 1.0000\nEpoch 33/100\n16/16 [==============================] - 0s 16ms/step - loss: 3.1176e-07 - accuracy: 1.0000\nEpoch 34/100\n16/16 [==============================] - 0s 13ms/step - loss: 2.9500e-07 - accuracy: 1.0000\nEpoch 35/100\n16/16 [==============================] - 1s 35ms/step - loss: 2.8382e-07 - accuracy: 1.0000\nEpoch 36/100\n16/16 [==============================] - 0s 11ms/step - loss: 2.6799e-07 - accuracy: 1.0000\nEpoch 37/100\n16/16 [==============================] - 0s 20ms/step - loss: 2.6357e-07 - accuracy: 1.0000\nEpoch 38/100\n16/16 [==============================] - 0s 19ms/step - loss: 2.4797e-07 - accuracy: 1.0000\nEpoch 39/100\n16/16 [==============================] - 0s 11ms/step - loss: 2.3493e-07 - accuracy: 1.0000\nEpoch 40/100\n16/16 [==============================] - 0s 19ms/step - loss: 2.2561e-07 - accuracy: 1.0000\nEpoch 41/100\n16/16 [==============================] - 0s 19ms/step - loss: 2.1723e-07 - accuracy: 1.0000\nEpoch 42/100\n16/16 [==============================] - 0s 13ms/step - loss: 2.0862e-07 - accuracy: 1.0000\nEpoch 43/100\n16/16 [==============================] - 0s 25ms/step - loss: 1.9837e-07 - accuracy: 1.0000\nEpoch 44/100\n16/16 [==============================] - 0s 19ms/step - loss: 1.9162e-07 - accuracy: 1.0000\nEpoch 45/100\n16/16 [==============================] - 1s 32ms/step - loss: 1.8906e-07 - accuracy: 1.0000\nEpoch 46/100\n16/16 [==============================] - 0s 22ms/step - loss: 1.7719e-07 - accuracy: 1.0000\nEpoch 47/100\n16/16 [==============================] - 0s 9ms/step - loss: 1.7253e-07 - accuracy: 1.0000\nEpoch 48/100\n16/16 [==============================] - 0s 22ms/step - loss: 1.6508e-07 - accuracy: 1.0000\nEpoch 49/100\n16/16 [==============================] - 0s 9ms/step - loss: 1.5996e-07 - accuracy: 1.0000\nEpoch 50/100\n16/16 [==============================] - 0s 25ms/step - loss: 1.5786e-07 - accuracy: 1.0000\nEpoch 51/100\n16/16 [==============================] - 0s 12ms/step - loss: 1.4994e-07 - accuracy: 1.0000\nEpoch 52/100\n16/16 [==============================] - 0s 17ms/step - loss: 1.4575e-07 - accuracy: 1.0000\nEpoch 53/100\n16/16 [==============================] - 0s 23ms/step - loss: 1.3970e-07 - accuracy: 1.0000\nEpoch 54/100\n16/16 [==============================] - 0s 24ms/step - loss: 1.3667e-07 - accuracy: 1.0000\nEpoch 55/100\n16/16 [==============================] - 0s 9ms/step - loss: 1.3271e-07 - accuracy: 1.0000\nEpoch 56/100\n16/16 [==============================] - 0s 29ms/step - loss: 1.2619e-07 - accuracy: 1.0000\nEpoch 57/100\n16/16 [==============================] - 0s 27ms/step - loss: 1.2456e-07 - accuracy: 1.0000\nEpoch 58/100\n16/16 [==============================] - 0s 16ms/step - loss: 1.1991e-07 - accuracy: 1.0000\nEpoch 59/100\n16/16 [==============================] - 0s 18ms/step - loss: 1.1525e-07 - accuracy: 1.0000\nEpoch 60/100\n16/16 [==============================] - 1s 33ms/step - loss: 1.1292e-07 - accuracy: 1.0000\nEpoch 61/100\n16/16 [==============================] - 0s 12ms/step - loss: 1.0873e-07 - accuracy: 1.0000\nEpoch 62/100\n16/16 [==============================] - 0s 15ms/step - loss: 1.0571e-07 - accuracy: 1.0000\nEpoch 63/100\n16/16 [==============================] - 0s 16ms/step - loss: 1.0361e-07 - accuracy: 1.0000\nEpoch 64/100\n16/16 [==============================] - 0s 19ms/step - loss: 1.0175e-07 - accuracy: 1.0000\nEpoch 65/100\n16/16 [==============================] - 0s 11ms/step - loss: 9.7091e-08 - accuracy: 1.0000\nEpoch 66/100\n16/16 [==============================] - 0s 19ms/step - loss: 9.4762e-08 - accuracy: 1.0000\nEpoch 67/100\n16/16 [==============================] - 0s 17ms/step - loss: 9.1968e-08 - accuracy: 1.0000\nEpoch 68/100\n16/16 [==============================] - 0s 16ms/step - loss: 8.9873e-08 - accuracy: 1.0000\nEpoch 69/100\n16/16 [==============================] - 0s 13ms/step - loss: 8.7312e-08 - accuracy: 1.0000\nEpoch 70/100\n16/16 [==============================] - 0s 25ms/step - loss: 8.6148e-08 - accuracy: 1.0000\nEpoch 71/100\n16/16 [==============================] - 0s 10ms/step - loss: 8.3121e-08 - accuracy: 1.0000\nEpoch 72/100\n16/16 [==============================] - 0s 20ms/step - loss: 8.0327e-08 - accuracy: 1.0000\nEpoch 73/100\n16/16 [==============================] - 0s 23ms/step - loss: 7.8697e-08 - accuracy: 1.0000\nEpoch 74/100\n16/16 [==============================] - 0s 30ms/step - loss: 7.7533e-08 - accuracy: 1.0000\nEpoch 75/100\n16/16 [==============================] - 0s 23ms/step - loss: 7.4739e-08 - accuracy: 1.0000\nEpoch 76/100\n16/16 [==============================] - 0s 10ms/step - loss: 7.3109e-08 - accuracy: 1.0000\nEpoch 77/100\n16/16 [==============================] - 0s 21ms/step - loss: 7.1945e-08 - accuracy: 1.0000\nEpoch 78/100\n16/16 [==============================] - 0s 20ms/step - loss: 7.1246e-08 - accuracy: 1.0000\nEpoch 79/100\n16/16 [==============================] - 0s 15ms/step - loss: 6.8685e-08 - accuracy: 1.0000\nEpoch 80/100\n16/16 [==============================] - 0s 21ms/step - loss: 6.7288e-08 - accuracy: 1.0000\nEpoch 81/100\n16/16 [==============================] - 0s 15ms/step - loss: 6.4960e-08 - accuracy: 1.0000\nEpoch 82/100\n16/16 [==============================] - 0s 18ms/step - loss: 6.4494e-08 - accuracy: 1.0000\nEpoch 83/100\n16/16 [==============================] - 0s 11ms/step - loss: 6.2166e-08 - accuracy: 1.0000\nEpoch 84/100\n16/16 [==============================] - 0s 23ms/step - loss: 6.1235e-08 - accuracy: 1.0000\nEpoch 85/100\n16/16 [==============================] - 0s 15ms/step - loss: 6.0303e-08 - accuracy: 1.0000\nEpoch 86/100\n16/16 [==============================] - 0s 16ms/step - loss: 5.7975e-08 - accuracy: 1.0000\nEpoch 87/100\n16/16 [==============================] - 0s 15ms/step - loss: 5.7742e-08 - accuracy: 1.0000\nEpoch 88/100\n16/16 [==============================] - 0s 13ms/step - loss: 5.6345e-08 - accuracy: 1.0000\nEpoch 89/100\n16/16 [==============================] - 0s 16ms/step - loss: 5.5414e-08 - accuracy: 1.0000\nEpoch 90/100\n16/16 [==============================] - 0s 22ms/step - loss: 5.3551e-08 - accuracy: 1.0000\nEpoch 91/100\n16/16 [==============================] - 0s 18ms/step - loss: 5.2853e-08 - accuracy: 1.0000\nEpoch 92/100\n16/16 [==============================] - 0s 17ms/step - loss: 5.1688e-08 - accuracy: 1.0000\nEpoch 93/100\n16/16 [==============================] - 0s 19ms/step - loss: 5.0291e-08 - accuracy: 1.0000\nEpoch 94/100\n16/16 [==============================] - 0s 11ms/step - loss: 4.8895e-08 - accuracy: 1.0000\nEpoch 95/100\n16/16 [==============================] - 0s 22ms/step - loss: 4.8429e-08 - accuracy: 1.0000\nEpoch 96/100\n16/16 [==============================] - 0s 27ms/step - loss: 4.7265e-08 - accuracy: 1.0000\nEpoch 97/100\n16/16 [==============================] - 0s 18ms/step - loss: 4.6566e-08 - accuracy: 1.0000\nEpoch 98/100\n16/16 [==============================] - 0s 11ms/step - loss: 4.5635e-08 - accuracy: 1.0000\nEpoch 99/100\n16/16 [==============================] - 0s 22ms/step - loss: 4.4471e-08 - accuracy: 1.0000\nEpoch 100/100\n16/16 [==============================] - 1s 34ms/step - loss: 4.4005e-08 - accuracy: 1.0000\nTrain time:  0:00:33.260389\n16/16 [==============================] - 1s 47ms/step\nTest Accuracy:  91.40625\n"
    }
   ],
   "source": [
    "# NN with 2 hidden layers\n",
    "feat_dimension = DATASET_16['x_train'][0].shape[0]\n",
    "model = get_classifier('nn', options={'input_dim': feat_dimension, 'd1': 300, 'd2': 300, 'opt': 'adam', 'n_clases': DATASET_16['n_clases']})\n",
    "\n",
    "# Labels to one-hot encoding\n",
    "categorical_train = np_utils.to_categorical(DATASET_16['y_train'], num_classes=DATASET_16['n_clases'])\n",
    "categorical_val = np_utils.to_categorical(DATASET_16['y_val'], num_classes=DATASET_16['n_clases'])\n",
    "\n",
    "# NN callbacks\n",
    "csv_logger = CSVLogger('plots/nn_1_est7.csv', separator=',', append=False)\n",
    "early_stop = EarlyStopping(monitor='val_loss', patience=2)\n",
    "callbacks = [csv_logger, early_stop]\n",
    "\n",
    "start = datetime.now()\n",
    "\n",
    "# TODO: use validation set to keep best model\n",
    "model.fit(DATASET_16['x_train'], categorical_train, epochs=100, batch_size=4, verbose=1, callbacks=callbacks)\n",
    "\n",
    "run_time = datetime.now() - start\n",
    "print('Train time: ', run_time)\n",
    "\n",
    "(loss, accuracy) = model.evaluate(DATASET_16['x_val'], categorical_val, batch_size=4, verbose=1)\n",
    "\n",
    "print('Test Accuracy: ', accuracy * 100)"
   ]
  },
  {
   "cell_type": "code",
   "execution_count": 61,
   "metadata": {},
   "outputs": [
    {
     "output_type": "display_data",
     "data": {
      "text/plain": "<Figure size 720x720 with 2 Axes>",
      "image/svg+xml": "<?xml version=\"1.0\" encoding=\"utf-8\" standalone=\"no\"?>\n<!DOCTYPE svg PUBLIC \"-//W3C//DTD SVG 1.1//EN\"\n  \"http://www.w3.org/Graphics/SVG/1.1/DTD/svg11.dtd\">\n<!-- Created with matplotlib (https://matplotlib.org/) -->\n<svg height=\"711.033625pt\" version=\"1.1\" viewBox=\"0 0 711.429375 711.033625\" width=\"711.429375pt\" xmlns=\"http://www.w3.org/2000/svg\" xmlns:xlink=\"http://www.w3.org/1999/xlink\">\n <defs>\n  <style type=\"text/css\">\n*{stroke-linecap:butt;stroke-linejoin:round;}\n  </style>\n </defs>\n <g id=\"figure_1\">\n  <g id=\"patch_1\">\n   <path d=\"M 0 711.033625 \nL 711.429375 711.033625 \nL 711.429375 0 \nL 0 0 \nz\n\" style=\"fill:#ffffff;\"/>\n  </g>\n  <g id=\"axes_1\">\n   <g id=\"patch_2\">\n    <path d=\"M 52.079375 316.94175 \nL 704.229375 316.94175 \nL 704.229375 24.14175 \nL 52.079375 24.14175 \nz\n\" style=\"fill:#e5e5e5;\"/>\n   </g>\n   <g id=\"matplotlib.axis_1\">\n    <g id=\"xtick_1\">\n     <g id=\"line2d_1\">\n      <path clip-path=\"url(#pef40297fc4)\" d=\"M 81.722557 316.94175 \nL 81.722557 24.14175 \n\" style=\"fill:none;stroke:#ffffff;stroke-linecap:square;stroke-width:0.8;\"/>\n     </g>\n     <g id=\"line2d_2\">\n      <defs>\n       <path d=\"M 0 0 \nL 0 3.5 \n\" id=\"m45dc2dd2f8\" style=\"stroke:#555555;stroke-width:0.8;\"/>\n      </defs>\n      <g>\n       <use style=\"fill:#555555;stroke:#555555;stroke-width:0.8;\" x=\"81.722557\" xlink:href=\"#m45dc2dd2f8\" y=\"316.94175\"/>\n      </g>\n     </g>\n     <g id=\"text_1\">\n      <!-- 0 -->\n      <defs>\n       <path d=\"M 31.78125 66.40625 \nQ 24.171875 66.40625 20.328125 58.90625 \nQ 16.5 51.421875 16.5 36.375 \nQ 16.5 21.390625 20.328125 13.890625 \nQ 24.171875 6.390625 31.78125 6.390625 \nQ 39.453125 6.390625 43.28125 13.890625 \nQ 47.125 21.390625 47.125 36.375 \nQ 47.125 51.421875 43.28125 58.90625 \nQ 39.453125 66.40625 31.78125 66.40625 \nz\nM 31.78125 74.21875 \nQ 44.046875 74.21875 50.515625 64.515625 \nQ 56.984375 54.828125 56.984375 36.375 \nQ 56.984375 17.96875 50.515625 8.265625 \nQ 44.046875 -1.421875 31.78125 -1.421875 \nQ 19.53125 -1.421875 13.0625 8.265625 \nQ 6.59375 17.96875 6.59375 36.375 \nQ 6.59375 54.828125 13.0625 64.515625 \nQ 19.53125 74.21875 31.78125 74.21875 \nz\n\" id=\"DejaVuSans-48\"/>\n      </defs>\n      <g style=\"fill:#555555;\" transform=\"translate(78.541307 331.540187)scale(0.1 -0.1)\">\n       <use xlink:href=\"#DejaVuSans-48\"/>\n      </g>\n     </g>\n    </g>\n    <g id=\"xtick_2\">\n     <g id=\"line2d_3\">\n      <path clip-path=\"url(#pef40297fc4)\" d=\"M 201.492988 316.94175 \nL 201.492988 24.14175 \n\" style=\"fill:none;stroke:#ffffff;stroke-linecap:square;stroke-width:0.8;\"/>\n     </g>\n     <g id=\"line2d_4\">\n      <g>\n       <use style=\"fill:#555555;stroke:#555555;stroke-width:0.8;\" x=\"201.492988\" xlink:href=\"#m45dc2dd2f8\" y=\"316.94175\"/>\n      </g>\n     </g>\n     <g id=\"text_2\">\n      <!-- 20 -->\n      <defs>\n       <path d=\"M 19.1875 8.296875 \nL 53.609375 8.296875 \nL 53.609375 0 \nL 7.328125 0 \nL 7.328125 8.296875 \nQ 12.9375 14.109375 22.625 23.890625 \nQ 32.328125 33.6875 34.8125 36.53125 \nQ 39.546875 41.84375 41.421875 45.53125 \nQ 43.3125 49.21875 43.3125 52.78125 \nQ 43.3125 58.59375 39.234375 62.25 \nQ 35.15625 65.921875 28.609375 65.921875 \nQ 23.96875 65.921875 18.8125 64.3125 \nQ 13.671875 62.703125 7.8125 59.421875 \nL 7.8125 69.390625 \nQ 13.765625 71.78125 18.9375 73 \nQ 24.125 74.21875 28.421875 74.21875 \nQ 39.75 74.21875 46.484375 68.546875 \nQ 53.21875 62.890625 53.21875 53.421875 \nQ 53.21875 48.921875 51.53125 44.890625 \nQ 49.859375 40.875 45.40625 35.40625 \nQ 44.1875 33.984375 37.640625 27.21875 \nQ 31.109375 20.453125 19.1875 8.296875 \nz\n\" id=\"DejaVuSans-50\"/>\n      </defs>\n      <g style=\"fill:#555555;\" transform=\"translate(195.130488 331.540187)scale(0.1 -0.1)\">\n       <use xlink:href=\"#DejaVuSans-50\"/>\n       <use x=\"63.623047\" xlink:href=\"#DejaVuSans-48\"/>\n      </g>\n     </g>\n    </g>\n    <g id=\"xtick_3\">\n     <g id=\"line2d_5\">\n      <path clip-path=\"url(#pef40297fc4)\" d=\"M 321.26342 316.94175 \nL 321.26342 24.14175 \n\" style=\"fill:none;stroke:#ffffff;stroke-linecap:square;stroke-width:0.8;\"/>\n     </g>\n     <g id=\"line2d_6\">\n      <g>\n       <use style=\"fill:#555555;stroke:#555555;stroke-width:0.8;\" x=\"321.26342\" xlink:href=\"#m45dc2dd2f8\" y=\"316.94175\"/>\n      </g>\n     </g>\n     <g id=\"text_3\">\n      <!-- 40 -->\n      <defs>\n       <path d=\"M 37.796875 64.3125 \nL 12.890625 25.390625 \nL 37.796875 25.390625 \nz\nM 35.203125 72.90625 \nL 47.609375 72.90625 \nL 47.609375 25.390625 \nL 58.015625 25.390625 \nL 58.015625 17.1875 \nL 47.609375 17.1875 \nL 47.609375 0 \nL 37.796875 0 \nL 37.796875 17.1875 \nL 4.890625 17.1875 \nL 4.890625 26.703125 \nz\n\" id=\"DejaVuSans-52\"/>\n      </defs>\n      <g style=\"fill:#555555;\" transform=\"translate(314.90092 331.540187)scale(0.1 -0.1)\">\n       <use xlink:href=\"#DejaVuSans-52\"/>\n       <use x=\"63.623047\" xlink:href=\"#DejaVuSans-48\"/>\n      </g>\n     </g>\n    </g>\n    <g id=\"xtick_4\">\n     <g id=\"line2d_7\">\n      <path clip-path=\"url(#pef40297fc4)\" d=\"M 441.033852 316.94175 \nL 441.033852 24.14175 \n\" style=\"fill:none;stroke:#ffffff;stroke-linecap:square;stroke-width:0.8;\"/>\n     </g>\n     <g id=\"line2d_8\">\n      <g>\n       <use style=\"fill:#555555;stroke:#555555;stroke-width:0.8;\" x=\"441.033852\" xlink:href=\"#m45dc2dd2f8\" y=\"316.94175\"/>\n      </g>\n     </g>\n     <g id=\"text_4\">\n      <!-- 60 -->\n      <defs>\n       <path d=\"M 33.015625 40.375 \nQ 26.375 40.375 22.484375 35.828125 \nQ 18.609375 31.296875 18.609375 23.390625 \nQ 18.609375 15.53125 22.484375 10.953125 \nQ 26.375 6.390625 33.015625 6.390625 \nQ 39.65625 6.390625 43.53125 10.953125 \nQ 47.40625 15.53125 47.40625 23.390625 \nQ 47.40625 31.296875 43.53125 35.828125 \nQ 39.65625 40.375 33.015625 40.375 \nz\nM 52.59375 71.296875 \nL 52.59375 62.3125 \nQ 48.875 64.0625 45.09375 64.984375 \nQ 41.3125 65.921875 37.59375 65.921875 \nQ 27.828125 65.921875 22.671875 59.328125 \nQ 17.53125 52.734375 16.796875 39.40625 \nQ 19.671875 43.65625 24.015625 45.921875 \nQ 28.375 48.1875 33.59375 48.1875 \nQ 44.578125 48.1875 50.953125 41.515625 \nQ 57.328125 34.859375 57.328125 23.390625 \nQ 57.328125 12.15625 50.6875 5.359375 \nQ 44.046875 -1.421875 33.015625 -1.421875 \nQ 20.359375 -1.421875 13.671875 8.265625 \nQ 6.984375 17.96875 6.984375 36.375 \nQ 6.984375 53.65625 15.1875 63.9375 \nQ 23.390625 74.21875 37.203125 74.21875 \nQ 40.921875 74.21875 44.703125 73.484375 \nQ 48.484375 72.75 52.59375 71.296875 \nz\n\" id=\"DejaVuSans-54\"/>\n      </defs>\n      <g style=\"fill:#555555;\" transform=\"translate(434.671352 331.540187)scale(0.1 -0.1)\">\n       <use xlink:href=\"#DejaVuSans-54\"/>\n       <use x=\"63.623047\" xlink:href=\"#DejaVuSans-48\"/>\n      </g>\n     </g>\n    </g>\n    <g id=\"xtick_5\">\n     <g id=\"line2d_9\">\n      <path clip-path=\"url(#pef40297fc4)\" d=\"M 560.804283 316.94175 \nL 560.804283 24.14175 \n\" style=\"fill:none;stroke:#ffffff;stroke-linecap:square;stroke-width:0.8;\"/>\n     </g>\n     <g id=\"line2d_10\">\n      <g>\n       <use style=\"fill:#555555;stroke:#555555;stroke-width:0.8;\" x=\"560.804283\" xlink:href=\"#m45dc2dd2f8\" y=\"316.94175\"/>\n      </g>\n     </g>\n     <g id=\"text_5\">\n      <!-- 80 -->\n      <defs>\n       <path d=\"M 31.78125 34.625 \nQ 24.75 34.625 20.71875 30.859375 \nQ 16.703125 27.09375 16.703125 20.515625 \nQ 16.703125 13.921875 20.71875 10.15625 \nQ 24.75 6.390625 31.78125 6.390625 \nQ 38.8125 6.390625 42.859375 10.171875 \nQ 46.921875 13.96875 46.921875 20.515625 \nQ 46.921875 27.09375 42.890625 30.859375 \nQ 38.875 34.625 31.78125 34.625 \nz\nM 21.921875 38.8125 \nQ 15.578125 40.375 12.03125 44.71875 \nQ 8.5 49.078125 8.5 55.328125 \nQ 8.5 64.0625 14.71875 69.140625 \nQ 20.953125 74.21875 31.78125 74.21875 \nQ 42.671875 74.21875 48.875 69.140625 \nQ 55.078125 64.0625 55.078125 55.328125 \nQ 55.078125 49.078125 51.53125 44.71875 \nQ 48 40.375 41.703125 38.8125 \nQ 48.828125 37.15625 52.796875 32.3125 \nQ 56.78125 27.484375 56.78125 20.515625 \nQ 56.78125 9.90625 50.3125 4.234375 \nQ 43.84375 -1.421875 31.78125 -1.421875 \nQ 19.734375 -1.421875 13.25 4.234375 \nQ 6.78125 9.90625 6.78125 20.515625 \nQ 6.78125 27.484375 10.78125 32.3125 \nQ 14.796875 37.15625 21.921875 38.8125 \nz\nM 18.3125 54.390625 \nQ 18.3125 48.734375 21.84375 45.5625 \nQ 25.390625 42.390625 31.78125 42.390625 \nQ 38.140625 42.390625 41.71875 45.5625 \nQ 45.3125 48.734375 45.3125 54.390625 \nQ 45.3125 60.0625 41.71875 63.234375 \nQ 38.140625 66.40625 31.78125 66.40625 \nQ 25.390625 66.40625 21.84375 63.234375 \nQ 18.3125 60.0625 18.3125 54.390625 \nz\n\" id=\"DejaVuSans-56\"/>\n      </defs>\n      <g style=\"fill:#555555;\" transform=\"translate(554.441783 331.540187)scale(0.1 -0.1)\">\n       <use xlink:href=\"#DejaVuSans-56\"/>\n       <use x=\"63.623047\" xlink:href=\"#DejaVuSans-48\"/>\n      </g>\n     </g>\n    </g>\n    <g id=\"xtick_6\">\n     <g id=\"line2d_11\">\n      <path clip-path=\"url(#pef40297fc4)\" d=\"M 680.574715 316.94175 \nL 680.574715 24.14175 \n\" style=\"fill:none;stroke:#ffffff;stroke-linecap:square;stroke-width:0.8;\"/>\n     </g>\n     <g id=\"line2d_12\">\n      <g>\n       <use style=\"fill:#555555;stroke:#555555;stroke-width:0.8;\" x=\"680.574715\" xlink:href=\"#m45dc2dd2f8\" y=\"316.94175\"/>\n      </g>\n     </g>\n     <g id=\"text_6\">\n      <!-- 100 -->\n      <defs>\n       <path d=\"M 12.40625 8.296875 \nL 28.515625 8.296875 \nL 28.515625 63.921875 \nL 10.984375 60.40625 \nL 10.984375 69.390625 \nL 28.421875 72.90625 \nL 38.28125 72.90625 \nL 38.28125 8.296875 \nL 54.390625 8.296875 \nL 54.390625 0 \nL 12.40625 0 \nz\n\" id=\"DejaVuSans-49\"/>\n      </defs>\n      <g style=\"fill:#555555;\" transform=\"translate(671.030965 331.540187)scale(0.1 -0.1)\">\n       <use xlink:href=\"#DejaVuSans-49\"/>\n       <use x=\"63.623047\" xlink:href=\"#DejaVuSans-48\"/>\n       <use x=\"127.246094\" xlink:href=\"#DejaVuSans-48\"/>\n      </g>\n     </g>\n    </g>\n    <g id=\"text_7\">\n     <!-- Epoch # -->\n     <defs>\n      <path d=\"M 9.8125 72.90625 \nL 55.90625 72.90625 \nL 55.90625 64.59375 \nL 19.671875 64.59375 \nL 19.671875 43.015625 \nL 54.390625 43.015625 \nL 54.390625 34.71875 \nL 19.671875 34.71875 \nL 19.671875 8.296875 \nL 56.78125 8.296875 \nL 56.78125 0 \nL 9.8125 0 \nz\n\" id=\"DejaVuSans-69\"/>\n      <path d=\"M 18.109375 8.203125 \nL 18.109375 -20.796875 \nL 9.078125 -20.796875 \nL 9.078125 54.6875 \nL 18.109375 54.6875 \nL 18.109375 46.390625 \nQ 20.953125 51.265625 25.265625 53.625 \nQ 29.59375 56 35.59375 56 \nQ 45.5625 56 51.78125 48.09375 \nQ 58.015625 40.1875 58.015625 27.296875 \nQ 58.015625 14.40625 51.78125 6.484375 \nQ 45.5625 -1.421875 35.59375 -1.421875 \nQ 29.59375 -1.421875 25.265625 0.953125 \nQ 20.953125 3.328125 18.109375 8.203125 \nz\nM 48.6875 27.296875 \nQ 48.6875 37.203125 44.609375 42.84375 \nQ 40.53125 48.484375 33.40625 48.484375 \nQ 26.265625 48.484375 22.1875 42.84375 \nQ 18.109375 37.203125 18.109375 27.296875 \nQ 18.109375 17.390625 22.1875 11.75 \nQ 26.265625 6.109375 33.40625 6.109375 \nQ 40.53125 6.109375 44.609375 11.75 \nQ 48.6875 17.390625 48.6875 27.296875 \nz\n\" id=\"DejaVuSans-112\"/>\n      <path d=\"M 30.609375 48.390625 \nQ 23.390625 48.390625 19.1875 42.75 \nQ 14.984375 37.109375 14.984375 27.296875 \nQ 14.984375 17.484375 19.15625 11.84375 \nQ 23.34375 6.203125 30.609375 6.203125 \nQ 37.796875 6.203125 41.984375 11.859375 \nQ 46.1875 17.53125 46.1875 27.296875 \nQ 46.1875 37.015625 41.984375 42.703125 \nQ 37.796875 48.390625 30.609375 48.390625 \nz\nM 30.609375 56 \nQ 42.328125 56 49.015625 48.375 \nQ 55.71875 40.765625 55.71875 27.296875 \nQ 55.71875 13.875 49.015625 6.21875 \nQ 42.328125 -1.421875 30.609375 -1.421875 \nQ 18.84375 -1.421875 12.171875 6.21875 \nQ 5.515625 13.875 5.515625 27.296875 \nQ 5.515625 40.765625 12.171875 48.375 \nQ 18.84375 56 30.609375 56 \nz\n\" id=\"DejaVuSans-111\"/>\n      <path d=\"M 48.78125 52.59375 \nL 48.78125 44.1875 \nQ 44.96875 46.296875 41.140625 47.34375 \nQ 37.3125 48.390625 33.40625 48.390625 \nQ 24.65625 48.390625 19.8125 42.84375 \nQ 14.984375 37.3125 14.984375 27.296875 \nQ 14.984375 17.28125 19.8125 11.734375 \nQ 24.65625 6.203125 33.40625 6.203125 \nQ 37.3125 6.203125 41.140625 7.25 \nQ 44.96875 8.296875 48.78125 10.40625 \nL 48.78125 2.09375 \nQ 45.015625 0.34375 40.984375 -0.53125 \nQ 36.96875 -1.421875 32.421875 -1.421875 \nQ 20.0625 -1.421875 12.78125 6.34375 \nQ 5.515625 14.109375 5.515625 27.296875 \nQ 5.515625 40.671875 12.859375 48.328125 \nQ 20.21875 56 33.015625 56 \nQ 37.15625 56 41.109375 55.140625 \nQ 45.0625 54.296875 48.78125 52.59375 \nz\n\" id=\"DejaVuSans-99\"/>\n      <path d=\"M 54.890625 33.015625 \nL 54.890625 0 \nL 45.90625 0 \nL 45.90625 32.71875 \nQ 45.90625 40.484375 42.875 44.328125 \nQ 39.84375 48.1875 33.796875 48.1875 \nQ 26.515625 48.1875 22.3125 43.546875 \nQ 18.109375 38.921875 18.109375 30.90625 \nL 18.109375 0 \nL 9.078125 0 \nL 9.078125 75.984375 \nL 18.109375 75.984375 \nL 18.109375 46.1875 \nQ 21.34375 51.125 25.703125 53.5625 \nQ 30.078125 56 35.796875 56 \nQ 45.21875 56 50.046875 50.171875 \nQ 54.890625 44.34375 54.890625 33.015625 \nz\n\" id=\"DejaVuSans-104\"/>\n      <path id=\"DejaVuSans-32\"/>\n      <path d=\"M 51.125 44 \nL 36.921875 44 \nL 32.8125 27.6875 \nL 47.125 27.6875 \nz\nM 43.796875 71.78125 \nL 38.71875 51.515625 \nL 52.984375 51.515625 \nL 58.109375 71.78125 \nL 65.921875 71.78125 \nL 60.890625 51.515625 \nL 76.125 51.515625 \nL 76.125 44 \nL 58.984375 44 \nL 54.984375 27.6875 \nL 70.515625 27.6875 \nL 70.515625 20.21875 \nL 53.078125 20.21875 \nL 48 0 \nL 40.1875 0 \nL 45.21875 20.21875 \nL 30.90625 20.21875 \nL 25.875 0 \nL 18.015625 0 \nL 23.09375 20.21875 \nL 7.71875 20.21875 \nL 7.71875 27.6875 \nL 24.90625 27.6875 \nL 29 44 \nL 13.28125 44 \nL 13.28125 51.515625 \nL 30.90625 51.515625 \nL 35.890625 71.78125 \nz\n\" id=\"DejaVuSans-35\"/>\n     </defs>\n     <g style=\"fill:#555555;\" transform=\"translate(352.846562 346.738)scale(0.12 -0.12)\">\n      <use xlink:href=\"#DejaVuSans-69\"/>\n      <use x=\"63.183594\" xlink:href=\"#DejaVuSans-112\"/>\n      <use x=\"126.660156\" xlink:href=\"#DejaVuSans-111\"/>\n      <use x=\"187.841797\" xlink:href=\"#DejaVuSans-99\"/>\n      <use x=\"242.822266\" xlink:href=\"#DejaVuSans-104\"/>\n      <use x=\"306.201172\" xlink:href=\"#DejaVuSans-32\"/>\n      <use x=\"337.988281\" xlink:href=\"#DejaVuSans-35\"/>\n     </g>\n    </g>\n   </g>\n   <g id=\"matplotlib.axis_2\">\n    <g id=\"ytick_1\">\n     <g id=\"line2d_13\">\n      <path clip-path=\"url(#pef40297fc4)\" d=\"M 52.079375 303.632709 \nL 704.229375 303.632709 \n\" style=\"fill:none;stroke:#ffffff;stroke-linecap:square;stroke-width:0.8;\"/>\n     </g>\n     <g id=\"line2d_14\">\n      <defs>\n       <path d=\"M 0 0 \nL -3.5 0 \n\" id=\"m9eaf52122c\" style=\"stroke:#555555;stroke-width:0.8;\"/>\n      </defs>\n      <g>\n       <use style=\"fill:#555555;stroke:#555555;stroke-width:0.8;\" x=\"52.079375\" xlink:href=\"#m9eaf52122c\" y=\"303.632709\"/>\n      </g>\n     </g>\n     <g id=\"text_8\">\n      <!-- 0.00 -->\n      <defs>\n       <path d=\"M 10.6875 12.40625 \nL 21 12.40625 \nL 21 0 \nL 10.6875 0 \nz\n\" id=\"DejaVuSans-46\"/>\n      </defs>\n      <g style=\"fill:#555555;\" transform=\"translate(22.81375 307.431928)scale(0.1 -0.1)\">\n       <use xlink:href=\"#DejaVuSans-48\"/>\n       <use x=\"63.623047\" xlink:href=\"#DejaVuSans-46\"/>\n       <use x=\"95.410156\" xlink:href=\"#DejaVuSans-48\"/>\n       <use x=\"159.033203\" xlink:href=\"#DejaVuSans-48\"/>\n      </g>\n     </g>\n    </g>\n    <g id=\"ytick_2\">\n     <g id=\"line2d_15\">\n      <path clip-path=\"url(#pef40297fc4)\" d=\"M 52.079375 246.390897 \nL 704.229375 246.390897 \n\" style=\"fill:none;stroke:#ffffff;stroke-linecap:square;stroke-width:0.8;\"/>\n     </g>\n     <g id=\"line2d_16\">\n      <g>\n       <use style=\"fill:#555555;stroke:#555555;stroke-width:0.8;\" x=\"52.079375\" xlink:href=\"#m9eaf52122c\" y=\"246.390897\"/>\n      </g>\n     </g>\n     <g id=\"text_9\">\n      <!-- 0.05 -->\n      <defs>\n       <path d=\"M 10.796875 72.90625 \nL 49.515625 72.90625 \nL 49.515625 64.59375 \nL 19.828125 64.59375 \nL 19.828125 46.734375 \nQ 21.96875 47.46875 24.109375 47.828125 \nQ 26.265625 48.1875 28.421875 48.1875 \nQ 40.625 48.1875 47.75 41.5 \nQ 54.890625 34.8125 54.890625 23.390625 \nQ 54.890625 11.625 47.5625 5.09375 \nQ 40.234375 -1.421875 26.90625 -1.421875 \nQ 22.3125 -1.421875 17.546875 -0.640625 \nQ 12.796875 0.140625 7.71875 1.703125 \nL 7.71875 11.625 \nQ 12.109375 9.234375 16.796875 8.0625 \nQ 21.484375 6.890625 26.703125 6.890625 \nQ 35.15625 6.890625 40.078125 11.328125 \nQ 45.015625 15.765625 45.015625 23.390625 \nQ 45.015625 31 40.078125 35.4375 \nQ 35.15625 39.890625 26.703125 39.890625 \nQ 22.75 39.890625 18.8125 39.015625 \nQ 14.890625 38.140625 10.796875 36.28125 \nz\n\" id=\"DejaVuSans-53\"/>\n      </defs>\n      <g style=\"fill:#555555;\" transform=\"translate(22.81375 250.190116)scale(0.1 -0.1)\">\n       <use xlink:href=\"#DejaVuSans-48\"/>\n       <use x=\"63.623047\" xlink:href=\"#DejaVuSans-46\"/>\n       <use x=\"95.410156\" xlink:href=\"#DejaVuSans-48\"/>\n       <use x=\"159.033203\" xlink:href=\"#DejaVuSans-53\"/>\n      </g>\n     </g>\n    </g>\n    <g id=\"ytick_3\">\n     <g id=\"line2d_17\">\n      <path clip-path=\"url(#pef40297fc4)\" d=\"M 52.079375 189.149084 \nL 704.229375 189.149084 \n\" style=\"fill:none;stroke:#ffffff;stroke-linecap:square;stroke-width:0.8;\"/>\n     </g>\n     <g id=\"line2d_18\">\n      <g>\n       <use style=\"fill:#555555;stroke:#555555;stroke-width:0.8;\" x=\"52.079375\" xlink:href=\"#m9eaf52122c\" y=\"189.149084\"/>\n      </g>\n     </g>\n     <g id=\"text_10\">\n      <!-- 0.10 -->\n      <g style=\"fill:#555555;\" transform=\"translate(22.81375 192.948303)scale(0.1 -0.1)\">\n       <use xlink:href=\"#DejaVuSans-48\"/>\n       <use x=\"63.623047\" xlink:href=\"#DejaVuSans-46\"/>\n       <use x=\"95.410156\" xlink:href=\"#DejaVuSans-49\"/>\n       <use x=\"159.033203\" xlink:href=\"#DejaVuSans-48\"/>\n      </g>\n     </g>\n    </g>\n    <g id=\"ytick_4\">\n     <g id=\"line2d_19\">\n      <path clip-path=\"url(#pef40297fc4)\" d=\"M 52.079375 131.907272 \nL 704.229375 131.907272 \n\" style=\"fill:none;stroke:#ffffff;stroke-linecap:square;stroke-width:0.8;\"/>\n     </g>\n     <g id=\"line2d_20\">\n      <g>\n       <use style=\"fill:#555555;stroke:#555555;stroke-width:0.8;\" x=\"52.079375\" xlink:href=\"#m9eaf52122c\" y=\"131.907272\"/>\n      </g>\n     </g>\n     <g id=\"text_11\">\n      <!-- 0.15 -->\n      <g style=\"fill:#555555;\" transform=\"translate(22.81375 135.70649)scale(0.1 -0.1)\">\n       <use xlink:href=\"#DejaVuSans-48\"/>\n       <use x=\"63.623047\" xlink:href=\"#DejaVuSans-46\"/>\n       <use x=\"95.410156\" xlink:href=\"#DejaVuSans-49\"/>\n       <use x=\"159.033203\" xlink:href=\"#DejaVuSans-53\"/>\n      </g>\n     </g>\n    </g>\n    <g id=\"ytick_5\">\n     <g id=\"line2d_21\">\n      <path clip-path=\"url(#pef40297fc4)\" d=\"M 52.079375 74.665459 \nL 704.229375 74.665459 \n\" style=\"fill:none;stroke:#ffffff;stroke-linecap:square;stroke-width:0.8;\"/>\n     </g>\n     <g id=\"line2d_22\">\n      <g>\n       <use style=\"fill:#555555;stroke:#555555;stroke-width:0.8;\" x=\"52.079375\" xlink:href=\"#m9eaf52122c\" y=\"74.665459\"/>\n      </g>\n     </g>\n     <g id=\"text_12\">\n      <!-- 0.20 -->\n      <g style=\"fill:#555555;\" transform=\"translate(22.81375 78.464678)scale(0.1 -0.1)\">\n       <use xlink:href=\"#DejaVuSans-48\"/>\n       <use x=\"63.623047\" xlink:href=\"#DejaVuSans-46\"/>\n       <use x=\"95.410156\" xlink:href=\"#DejaVuSans-50\"/>\n       <use x=\"159.033203\" xlink:href=\"#DejaVuSans-48\"/>\n      </g>\n     </g>\n    </g>\n    <g id=\"text_13\">\n     <!-- Loss -->\n     <defs>\n      <path d=\"M 9.8125 72.90625 \nL 19.671875 72.90625 \nL 19.671875 8.296875 \nL 55.171875 8.296875 \nL 55.171875 0 \nL 9.8125 0 \nz\n\" id=\"DejaVuSans-76\"/>\n      <path d=\"M 44.28125 53.078125 \nL 44.28125 44.578125 \nQ 40.484375 46.53125 36.375 47.5 \nQ 32.28125 48.484375 27.875 48.484375 \nQ 21.1875 48.484375 17.84375 46.4375 \nQ 14.5 44.390625 14.5 40.28125 \nQ 14.5 37.15625 16.890625 35.375 \nQ 19.28125 33.59375 26.515625 31.984375 \nL 29.59375 31.296875 \nQ 39.15625 29.25 43.1875 25.515625 \nQ 47.21875 21.78125 47.21875 15.09375 \nQ 47.21875 7.46875 41.1875 3.015625 \nQ 35.15625 -1.421875 24.609375 -1.421875 \nQ 20.21875 -1.421875 15.453125 -0.5625 \nQ 10.6875 0.296875 5.421875 2 \nL 5.421875 11.28125 \nQ 10.40625 8.6875 15.234375 7.390625 \nQ 20.0625 6.109375 24.8125 6.109375 \nQ 31.15625 6.109375 34.5625 8.28125 \nQ 37.984375 10.453125 37.984375 14.40625 \nQ 37.984375 18.0625 35.515625 20.015625 \nQ 33.0625 21.96875 24.703125 23.78125 \nL 21.578125 24.515625 \nQ 13.234375 26.265625 9.515625 29.90625 \nQ 5.8125 33.546875 5.8125 39.890625 \nQ 5.8125 47.609375 11.28125 51.796875 \nQ 16.75 56 26.8125 56 \nQ 31.78125 56 36.171875 55.265625 \nQ 40.578125 54.546875 44.28125 53.078125 \nz\n\" id=\"DejaVuSans-115\"/>\n     </defs>\n     <g style=\"fill:#555555;\" transform=\"translate(16.318125 183.702375)rotate(-90)scale(0.12 -0.12)\">\n      <use xlink:href=\"#DejaVuSans-76\"/>\n      <use x=\"53.962891\" xlink:href=\"#DejaVuSans-111\"/>\n      <use x=\"115.144531\" xlink:href=\"#DejaVuSans-115\"/>\n      <use x=\"167.244141\" xlink:href=\"#DejaVuSans-115\"/>\n     </g>\n    </g>\n   </g>\n   <g id=\"line2d_23\">\n    <path clip-path=\"url(#pef40297fc4)\" d=\"M 81.722557 37.450841 \nL 87.711078 285.904645 \nL 93.6996 246.541972 \nL 99.688122 302.600037 \nL 105.676643 303.564626 \nL 111.665165 303.619538 \nL 117.653686 303.625194 \nL 123.642208 303.627999 \nL 129.630729 303.629009 \nL 135.619251 303.629553 \nL 141.607773 303.63018 \nL 147.596294 303.630308 \nL 153.584816 303.630848 \nL 159.573337 303.631052 \nL 165.561859 303.631272 \nL 171.550381 303.631503 \nL 177.538902 303.631618 \nL 183.527424 303.631678 \nL 189.515945 303.631783 \nL 195.504467 303.631894 \nL 201.492988 303.631945 \nL 207.48151 303.632014 \nL 213.470032 303.63203 \nL 219.458553 303.632111 \nL 225.447075 303.632124 \nL 231.435596 303.632173 \nL 237.424118 303.632208 \nL 243.412639 303.632248 \nL 249.401161 303.632262 \nL 255.389683 303.632289 \nL 261.378204 303.632312 \nL 267.366726 303.63234 \nL 273.355247 303.632353 \nL 279.343769 303.632372 \nL 285.332291 303.632385 \nL 291.320812 303.632403 \nL 297.309334 303.632408 \nL 303.297855 303.632426 \nL 309.286377 303.632441 \nL 315.274898 303.632451 \nL 321.26342 303.632461 \nL 327.251942 303.632471 \nL 333.240463 303.632482 \nL 339.228985 303.63249 \nL 345.217506 303.632493 \nL 351.206028 303.632507 \nL 357.194549 303.632512 \nL 363.183071 303.63252 \nL 369.171593 303.632526 \nL 375.160114 303.632529 \nL 381.148636 303.632538 \nL 387.137157 303.632543 \nL 393.125679 303.63255 \nL 399.114201 303.632553 \nL 405.102722 303.632558 \nL 411.091244 303.632565 \nL 417.079765 303.632567 \nL 423.068287 303.632572 \nL 429.056808 303.632578 \nL 435.04533 303.63258 \nL 441.033852 303.632585 \nL 447.022373 303.632588 \nL 453.010895 303.632591 \nL 458.999416 303.632593 \nL 464.987938 303.632598 \nL 470.976459 303.632601 \nL 476.964981 303.632604 \nL 482.953503 303.632607 \nL 488.942024 303.63261 \nL 494.930546 303.632611 \nL 500.919067 303.632614 \nL 506.907589 303.632618 \nL 512.896111 303.632619 \nL 518.884632 303.632621 \nL 524.873154 303.632624 \nL 530.861675 303.632626 \nL 536.850197 303.632627 \nL 542.838718 303.632628 \nL 548.82724 303.632631 \nL 554.815762 303.632632 \nL 560.804283 303.632635 \nL 566.792805 303.632636 \nL 572.781326 303.632638 \nL 578.769848 303.632639 \nL 584.758369 303.63264 \nL 590.746891 303.632643 \nL 596.735413 303.632643 \nL 602.723934 303.632645 \nL 608.712456 303.632646 \nL 614.700977 303.632648 \nL 620.689499 303.632649 \nL 626.678021 303.63265 \nL 632.666542 303.632652 \nL 638.655064 303.632653 \nL 644.643585 303.632654 \nL 650.632107 303.632655 \nL 656.620628 303.632656 \nL 662.60915 303.632657 \nL 668.597672 303.632659 \nL 674.586193 303.632659 \n\" style=\"fill:none;stroke:#e24a33;stroke-linecap:square;stroke-width:1.5;\"/>\n   </g>\n   <g id=\"patch_3\">\n    <path d=\"M 52.079375 316.94175 \nL 52.079375 24.14175 \n\" style=\"fill:none;stroke:#ffffff;stroke-linecap:square;stroke-linejoin:miter;\"/>\n   </g>\n   <g id=\"patch_4\">\n    <path d=\"M 704.229375 316.94175 \nL 704.229375 24.14175 \n\" style=\"fill:none;stroke:#ffffff;stroke-linecap:square;stroke-linejoin:miter;\"/>\n   </g>\n   <g id=\"patch_5\">\n    <path d=\"M 52.079375 316.94175 \nL 704.229375 316.94175 \n\" style=\"fill:none;stroke:#ffffff;stroke-linecap:square;stroke-linejoin:miter;\"/>\n   </g>\n   <g id=\"patch_6\">\n    <path d=\"M 52.079375 24.14175 \nL 704.229375 24.14175 \n\" style=\"fill:none;stroke:#ffffff;stroke-linecap:square;stroke-linejoin:miter;\"/>\n   </g>\n   <g id=\"text_14\">\n    <!-- Loss by epoch -->\n    <defs>\n     <path d=\"M 48.6875 27.296875 \nQ 48.6875 37.203125 44.609375 42.84375 \nQ 40.53125 48.484375 33.40625 48.484375 \nQ 26.265625 48.484375 22.1875 42.84375 \nQ 18.109375 37.203125 18.109375 27.296875 \nQ 18.109375 17.390625 22.1875 11.75 \nQ 26.265625 6.109375 33.40625 6.109375 \nQ 40.53125 6.109375 44.609375 11.75 \nQ 48.6875 17.390625 48.6875 27.296875 \nz\nM 18.109375 46.390625 \nQ 20.953125 51.265625 25.265625 53.625 \nQ 29.59375 56 35.59375 56 \nQ 45.5625 56 51.78125 48.09375 \nQ 58.015625 40.1875 58.015625 27.296875 \nQ 58.015625 14.40625 51.78125 6.484375 \nQ 45.5625 -1.421875 35.59375 -1.421875 \nQ 29.59375 -1.421875 25.265625 0.953125 \nQ 20.953125 3.328125 18.109375 8.203125 \nL 18.109375 0 \nL 9.078125 0 \nL 9.078125 75.984375 \nL 18.109375 75.984375 \nz\n\" id=\"DejaVuSans-98\"/>\n     <path d=\"M 32.171875 -5.078125 \nQ 28.375 -14.84375 24.75 -17.8125 \nQ 21.140625 -20.796875 15.09375 -20.796875 \nL 7.90625 -20.796875 \nL 7.90625 -13.28125 \nL 13.1875 -13.28125 \nQ 16.890625 -13.28125 18.9375 -11.515625 \nQ 21 -9.765625 23.484375 -3.21875 \nL 25.09375 0.875 \nL 2.984375 54.6875 \nL 12.5 54.6875 \nL 29.59375 11.921875 \nL 46.6875 54.6875 \nL 56.203125 54.6875 \nz\n\" id=\"DejaVuSans-121\"/>\n     <path d=\"M 56.203125 29.59375 \nL 56.203125 25.203125 \nL 14.890625 25.203125 \nQ 15.484375 15.921875 20.484375 11.0625 \nQ 25.484375 6.203125 34.421875 6.203125 \nQ 39.59375 6.203125 44.453125 7.46875 \nQ 49.3125 8.734375 54.109375 11.28125 \nL 54.109375 2.78125 \nQ 49.265625 0.734375 44.1875 -0.34375 \nQ 39.109375 -1.421875 33.890625 -1.421875 \nQ 20.796875 -1.421875 13.15625 6.1875 \nQ 5.515625 13.8125 5.515625 26.8125 \nQ 5.515625 40.234375 12.765625 48.109375 \nQ 20.015625 56 32.328125 56 \nQ 43.359375 56 49.78125 48.890625 \nQ 56.203125 41.796875 56.203125 29.59375 \nz\nM 47.21875 32.234375 \nQ 47.125 39.59375 43.09375 43.984375 \nQ 39.0625 48.390625 32.421875 48.390625 \nQ 24.90625 48.390625 20.390625 44.140625 \nQ 15.875 39.890625 15.1875 32.171875 \nz\n\" id=\"DejaVuSans-101\"/>\n    </defs>\n    <g transform=\"translate(327.02425 18.14175)scale(0.144 -0.144)\">\n     <use xlink:href=\"#DejaVuSans-76\"/>\n     <use x=\"53.962891\" xlink:href=\"#DejaVuSans-111\"/>\n     <use x=\"115.144531\" xlink:href=\"#DejaVuSans-115\"/>\n     <use x=\"167.244141\" xlink:href=\"#DejaVuSans-115\"/>\n     <use x=\"219.34375\" xlink:href=\"#DejaVuSans-32\"/>\n     <use x=\"251.130859\" xlink:href=\"#DejaVuSans-98\"/>\n     <use x=\"314.607422\" xlink:href=\"#DejaVuSans-121\"/>\n     <use x=\"373.787109\" xlink:href=\"#DejaVuSans-32\"/>\n     <use x=\"405.574219\" xlink:href=\"#DejaVuSans-101\"/>\n     <use x=\"467.097656\" xlink:href=\"#DejaVuSans-112\"/>\n     <use x=\"530.574219\" xlink:href=\"#DejaVuSans-111\"/>\n     <use x=\"591.755859\" xlink:href=\"#DejaVuSans-99\"/>\n     <use x=\"646.736328\" xlink:href=\"#DejaVuSans-104\"/>\n    </g>\n   </g>\n  </g>\n  <g id=\"axes_2\">\n   <g id=\"patch_7\">\n    <path d=\"M 52.079375 671.54175 \nL 704.229375 671.54175 \nL 704.229375 378.74175 \nL 52.079375 378.74175 \nz\n\" style=\"fill:#e5e5e5;\"/>\n   </g>\n   <g id=\"matplotlib.axis_3\">\n    <g id=\"xtick_7\">\n     <g id=\"line2d_24\">\n      <path clip-path=\"url(#pd9012f9f9c)\" d=\"M 81.722557 671.54175 \nL 81.722557 378.74175 \n\" style=\"fill:none;stroke:#ffffff;stroke-linecap:square;stroke-width:0.8;\"/>\n     </g>\n     <g id=\"line2d_25\">\n      <g>\n       <use style=\"fill:#555555;stroke:#555555;stroke-width:0.8;\" x=\"81.722557\" xlink:href=\"#m45dc2dd2f8\" y=\"671.54175\"/>\n      </g>\n     </g>\n     <g id=\"text_15\">\n      <!-- 0 -->\n      <g style=\"fill:#555555;\" transform=\"translate(78.541307 686.140187)scale(0.1 -0.1)\">\n       <use xlink:href=\"#DejaVuSans-48\"/>\n      </g>\n     </g>\n    </g>\n    <g id=\"xtick_8\">\n     <g id=\"line2d_26\">\n      <path clip-path=\"url(#pd9012f9f9c)\" d=\"M 201.492988 671.54175 \nL 201.492988 378.74175 \n\" style=\"fill:none;stroke:#ffffff;stroke-linecap:square;stroke-width:0.8;\"/>\n     </g>\n     <g id=\"line2d_27\">\n      <g>\n       <use style=\"fill:#555555;stroke:#555555;stroke-width:0.8;\" x=\"201.492988\" xlink:href=\"#m45dc2dd2f8\" y=\"671.54175\"/>\n      </g>\n     </g>\n     <g id=\"text_16\">\n      <!-- 20 -->\n      <g style=\"fill:#555555;\" transform=\"translate(195.130488 686.140187)scale(0.1 -0.1)\">\n       <use xlink:href=\"#DejaVuSans-50\"/>\n       <use x=\"63.623047\" xlink:href=\"#DejaVuSans-48\"/>\n      </g>\n     </g>\n    </g>\n    <g id=\"xtick_9\">\n     <g id=\"line2d_28\">\n      <path clip-path=\"url(#pd9012f9f9c)\" d=\"M 321.26342 671.54175 \nL 321.26342 378.74175 \n\" style=\"fill:none;stroke:#ffffff;stroke-linecap:square;stroke-width:0.8;\"/>\n     </g>\n     <g id=\"line2d_29\">\n      <g>\n       <use style=\"fill:#555555;stroke:#555555;stroke-width:0.8;\" x=\"321.26342\" xlink:href=\"#m45dc2dd2f8\" y=\"671.54175\"/>\n      </g>\n     </g>\n     <g id=\"text_17\">\n      <!-- 40 -->\n      <g style=\"fill:#555555;\" transform=\"translate(314.90092 686.140187)scale(0.1 -0.1)\">\n       <use xlink:href=\"#DejaVuSans-52\"/>\n       <use x=\"63.623047\" xlink:href=\"#DejaVuSans-48\"/>\n      </g>\n     </g>\n    </g>\n    <g id=\"xtick_10\">\n     <g id=\"line2d_30\">\n      <path clip-path=\"url(#pd9012f9f9c)\" d=\"M 441.033852 671.54175 \nL 441.033852 378.74175 \n\" style=\"fill:none;stroke:#ffffff;stroke-linecap:square;stroke-width:0.8;\"/>\n     </g>\n     <g id=\"line2d_31\">\n      <g>\n       <use style=\"fill:#555555;stroke:#555555;stroke-width:0.8;\" x=\"441.033852\" xlink:href=\"#m45dc2dd2f8\" y=\"671.54175\"/>\n      </g>\n     </g>\n     <g id=\"text_18\">\n      <!-- 60 -->\n      <g style=\"fill:#555555;\" transform=\"translate(434.671352 686.140187)scale(0.1 -0.1)\">\n       <use xlink:href=\"#DejaVuSans-54\"/>\n       <use x=\"63.623047\" xlink:href=\"#DejaVuSans-48\"/>\n      </g>\n     </g>\n    </g>\n    <g id=\"xtick_11\">\n     <g id=\"line2d_32\">\n      <path clip-path=\"url(#pd9012f9f9c)\" d=\"M 560.804283 671.54175 \nL 560.804283 378.74175 \n\" style=\"fill:none;stroke:#ffffff;stroke-linecap:square;stroke-width:0.8;\"/>\n     </g>\n     <g id=\"line2d_33\">\n      <g>\n       <use style=\"fill:#555555;stroke:#555555;stroke-width:0.8;\" x=\"560.804283\" xlink:href=\"#m45dc2dd2f8\" y=\"671.54175\"/>\n      </g>\n     </g>\n     <g id=\"text_19\">\n      <!-- 80 -->\n      <g style=\"fill:#555555;\" transform=\"translate(554.441783 686.140187)scale(0.1 -0.1)\">\n       <use xlink:href=\"#DejaVuSans-56\"/>\n       <use x=\"63.623047\" xlink:href=\"#DejaVuSans-48\"/>\n      </g>\n     </g>\n    </g>\n    <g id=\"xtick_12\">\n     <g id=\"line2d_34\">\n      <path clip-path=\"url(#pd9012f9f9c)\" d=\"M 680.574715 671.54175 \nL 680.574715 378.74175 \n\" style=\"fill:none;stroke:#ffffff;stroke-linecap:square;stroke-width:0.8;\"/>\n     </g>\n     <g id=\"line2d_35\">\n      <g>\n       <use style=\"fill:#555555;stroke:#555555;stroke-width:0.8;\" x=\"680.574715\" xlink:href=\"#m45dc2dd2f8\" y=\"671.54175\"/>\n      </g>\n     </g>\n     <g id=\"text_20\">\n      <!-- 100 -->\n      <g style=\"fill:#555555;\" transform=\"translate(671.030965 686.140187)scale(0.1 -0.1)\">\n       <use xlink:href=\"#DejaVuSans-49\"/>\n       <use x=\"63.623047\" xlink:href=\"#DejaVuSans-48\"/>\n       <use x=\"127.246094\" xlink:href=\"#DejaVuSans-48\"/>\n      </g>\n     </g>\n    </g>\n    <g id=\"text_21\">\n     <!-- Epoch # -->\n     <g style=\"fill:#555555;\" transform=\"translate(352.846562 701.338)scale(0.12 -0.12)\">\n      <use xlink:href=\"#DejaVuSans-69\"/>\n      <use x=\"63.183594\" xlink:href=\"#DejaVuSans-112\"/>\n      <use x=\"126.660156\" xlink:href=\"#DejaVuSans-111\"/>\n      <use x=\"187.841797\" xlink:href=\"#DejaVuSans-99\"/>\n      <use x=\"242.822266\" xlink:href=\"#DejaVuSans-104\"/>\n      <use x=\"306.201172\" xlink:href=\"#DejaVuSans-32\"/>\n      <use x=\"337.988281\" xlink:href=\"#DejaVuSans-35\"/>\n     </g>\n    </g>\n   </g>\n   <g id=\"matplotlib.axis_4\">\n    <g id=\"ytick_6\">\n     <g id=\"line2d_36\">\n      <path clip-path=\"url(#pd9012f9f9c)\" d=\"M 52.079375 643.102324 \nL 704.229375 643.102324 \n\" style=\"fill:none;stroke:#ffffff;stroke-linecap:square;stroke-width:0.8;\"/>\n     </g>\n     <g id=\"line2d_37\">\n      <g>\n       <use style=\"fill:#555555;stroke:#555555;stroke-width:0.8;\" x=\"52.079375\" xlink:href=\"#m9eaf52122c\" y=\"643.102324\"/>\n      </g>\n     </g>\n     <g id=\"text_22\">\n      <!-- 0.93 -->\n      <defs>\n       <path d=\"M 10.984375 1.515625 \nL 10.984375 10.5 \nQ 14.703125 8.734375 18.5 7.8125 \nQ 22.3125 6.890625 25.984375 6.890625 \nQ 35.75 6.890625 40.890625 13.453125 \nQ 46.046875 20.015625 46.78125 33.40625 \nQ 43.953125 29.203125 39.59375 26.953125 \nQ 35.25 24.703125 29.984375 24.703125 \nQ 19.046875 24.703125 12.671875 31.3125 \nQ 6.296875 37.9375 6.296875 49.421875 \nQ 6.296875 60.640625 12.9375 67.421875 \nQ 19.578125 74.21875 30.609375 74.21875 \nQ 43.265625 74.21875 49.921875 64.515625 \nQ 56.59375 54.828125 56.59375 36.375 \nQ 56.59375 19.140625 48.40625 8.859375 \nQ 40.234375 -1.421875 26.421875 -1.421875 \nQ 22.703125 -1.421875 18.890625 -0.6875 \nQ 15.09375 0.046875 10.984375 1.515625 \nz\nM 30.609375 32.421875 \nQ 37.25 32.421875 41.125 36.953125 \nQ 45.015625 41.5 45.015625 49.421875 \nQ 45.015625 57.28125 41.125 61.84375 \nQ 37.25 66.40625 30.609375 66.40625 \nQ 23.96875 66.40625 20.09375 61.84375 \nQ 16.21875 57.28125 16.21875 49.421875 \nQ 16.21875 41.5 20.09375 36.953125 \nQ 23.96875 32.421875 30.609375 32.421875 \nz\n\" id=\"DejaVuSans-57\"/>\n       <path d=\"M 40.578125 39.3125 \nQ 47.65625 37.796875 51.625 33 \nQ 55.609375 28.21875 55.609375 21.1875 \nQ 55.609375 10.40625 48.1875 4.484375 \nQ 40.765625 -1.421875 27.09375 -1.421875 \nQ 22.515625 -1.421875 17.65625 -0.515625 \nQ 12.796875 0.390625 7.625 2.203125 \nL 7.625 11.71875 \nQ 11.71875 9.328125 16.59375 8.109375 \nQ 21.484375 6.890625 26.8125 6.890625 \nQ 36.078125 6.890625 40.9375 10.546875 \nQ 45.796875 14.203125 45.796875 21.1875 \nQ 45.796875 27.640625 41.28125 31.265625 \nQ 36.765625 34.90625 28.71875 34.90625 \nL 20.21875 34.90625 \nL 20.21875 43.015625 \nL 29.109375 43.015625 \nQ 36.375 43.015625 40.234375 45.921875 \nQ 44.09375 48.828125 44.09375 54.296875 \nQ 44.09375 59.90625 40.109375 62.90625 \nQ 36.140625 65.921875 28.71875 65.921875 \nQ 24.65625 65.921875 20.015625 65.03125 \nQ 15.375 64.15625 9.8125 62.3125 \nL 9.8125 71.09375 \nQ 15.4375 72.65625 20.34375 73.4375 \nQ 25.25 74.21875 29.59375 74.21875 \nQ 40.828125 74.21875 47.359375 69.109375 \nQ 53.90625 64.015625 53.90625 55.328125 \nQ 53.90625 49.265625 50.4375 45.09375 \nQ 46.96875 40.921875 40.578125 39.3125 \nz\n\" id=\"DejaVuSans-51\"/>\n      </defs>\n      <g style=\"fill:#555555;\" transform=\"translate(22.81375 646.901543)scale(0.1 -0.1)\">\n       <use xlink:href=\"#DejaVuSans-48\"/>\n       <use x=\"63.623047\" xlink:href=\"#DejaVuSans-46\"/>\n       <use x=\"95.410156\" xlink:href=\"#DejaVuSans-57\"/>\n       <use x=\"159.033203\" xlink:href=\"#DejaVuSans-51\"/>\n      </g>\n     </g>\n    </g>\n    <g id=\"ytick_7\">\n     <g id=\"line2d_38\">\n      <path clip-path=\"url(#pd9012f9f9c)\" d=\"M 52.079375 607.237827 \nL 704.229375 607.237827 \n\" style=\"fill:none;stroke:#ffffff;stroke-linecap:square;stroke-width:0.8;\"/>\n     </g>\n     <g id=\"line2d_39\">\n      <g>\n       <use style=\"fill:#555555;stroke:#555555;stroke-width:0.8;\" x=\"52.079375\" xlink:href=\"#m9eaf52122c\" y=\"607.237827\"/>\n      </g>\n     </g>\n     <g id=\"text_23\">\n      <!-- 0.94 -->\n      <g style=\"fill:#555555;\" transform=\"translate(22.81375 611.037045)scale(0.1 -0.1)\">\n       <use xlink:href=\"#DejaVuSans-48\"/>\n       <use x=\"63.623047\" xlink:href=\"#DejaVuSans-46\"/>\n       <use x=\"95.410156\" xlink:href=\"#DejaVuSans-57\"/>\n       <use x=\"159.033203\" xlink:href=\"#DejaVuSans-52\"/>\n      </g>\n     </g>\n    </g>\n    <g id=\"ytick_8\">\n     <g id=\"line2d_40\">\n      <path clip-path=\"url(#pd9012f9f9c)\" d=\"M 52.079375 571.373329 \nL 704.229375 571.373329 \n\" style=\"fill:none;stroke:#ffffff;stroke-linecap:square;stroke-width:0.8;\"/>\n     </g>\n     <g id=\"line2d_41\">\n      <g>\n       <use style=\"fill:#555555;stroke:#555555;stroke-width:0.8;\" x=\"52.079375\" xlink:href=\"#m9eaf52122c\" y=\"571.373329\"/>\n      </g>\n     </g>\n     <g id=\"text_24\">\n      <!-- 0.95 -->\n      <g style=\"fill:#555555;\" transform=\"translate(22.81375 575.172548)scale(0.1 -0.1)\">\n       <use xlink:href=\"#DejaVuSans-48\"/>\n       <use x=\"63.623047\" xlink:href=\"#DejaVuSans-46\"/>\n       <use x=\"95.410156\" xlink:href=\"#DejaVuSans-57\"/>\n       <use x=\"159.033203\" xlink:href=\"#DejaVuSans-53\"/>\n      </g>\n     </g>\n    </g>\n    <g id=\"ytick_9\">\n     <g id=\"line2d_42\">\n      <path clip-path=\"url(#pd9012f9f9c)\" d=\"M 52.079375 535.508831 \nL 704.229375 535.508831 \n\" style=\"fill:none;stroke:#ffffff;stroke-linecap:square;stroke-width:0.8;\"/>\n     </g>\n     <g id=\"line2d_43\">\n      <g>\n       <use style=\"fill:#555555;stroke:#555555;stroke-width:0.8;\" x=\"52.079375\" xlink:href=\"#m9eaf52122c\" y=\"535.508831\"/>\n      </g>\n     </g>\n     <g id=\"text_25\">\n      <!-- 0.96 -->\n      <g style=\"fill:#555555;\" transform=\"translate(22.81375 539.30805)scale(0.1 -0.1)\">\n       <use xlink:href=\"#DejaVuSans-48\"/>\n       <use x=\"63.623047\" xlink:href=\"#DejaVuSans-46\"/>\n       <use x=\"95.410156\" xlink:href=\"#DejaVuSans-57\"/>\n       <use x=\"159.033203\" xlink:href=\"#DejaVuSans-54\"/>\n      </g>\n     </g>\n    </g>\n    <g id=\"ytick_10\">\n     <g id=\"line2d_44\">\n      <path clip-path=\"url(#pd9012f9f9c)\" d=\"M 52.079375 499.644334 \nL 704.229375 499.644334 \n\" style=\"fill:none;stroke:#ffffff;stroke-linecap:square;stroke-width:0.8;\"/>\n     </g>\n     <g id=\"line2d_45\">\n      <g>\n       <use style=\"fill:#555555;stroke:#555555;stroke-width:0.8;\" x=\"52.079375\" xlink:href=\"#m9eaf52122c\" y=\"499.644334\"/>\n      </g>\n     </g>\n     <g id=\"text_26\">\n      <!-- 0.97 -->\n      <defs>\n       <path d=\"M 8.203125 72.90625 \nL 55.078125 72.90625 \nL 55.078125 68.703125 \nL 28.609375 0 \nL 18.3125 0 \nL 43.21875 64.59375 \nL 8.203125 64.59375 \nz\n\" id=\"DejaVuSans-55\"/>\n      </defs>\n      <g style=\"fill:#555555;\" transform=\"translate(22.81375 503.443552)scale(0.1 -0.1)\">\n       <use xlink:href=\"#DejaVuSans-48\"/>\n       <use x=\"63.623047\" xlink:href=\"#DejaVuSans-46\"/>\n       <use x=\"95.410156\" xlink:href=\"#DejaVuSans-57\"/>\n       <use x=\"159.033203\" xlink:href=\"#DejaVuSans-55\"/>\n      </g>\n     </g>\n    </g>\n    <g id=\"ytick_11\">\n     <g id=\"line2d_46\">\n      <path clip-path=\"url(#pd9012f9f9c)\" d=\"M 52.079375 463.779836 \nL 704.229375 463.779836 \n\" style=\"fill:none;stroke:#ffffff;stroke-linecap:square;stroke-width:0.8;\"/>\n     </g>\n     <g id=\"line2d_47\">\n      <g>\n       <use style=\"fill:#555555;stroke:#555555;stroke-width:0.8;\" x=\"52.079375\" xlink:href=\"#m9eaf52122c\" y=\"463.779836\"/>\n      </g>\n     </g>\n     <g id=\"text_27\">\n      <!-- 0.98 -->\n      <g style=\"fill:#555555;\" transform=\"translate(22.81375 467.579055)scale(0.1 -0.1)\">\n       <use xlink:href=\"#DejaVuSans-48\"/>\n       <use x=\"63.623047\" xlink:href=\"#DejaVuSans-46\"/>\n       <use x=\"95.410156\" xlink:href=\"#DejaVuSans-57\"/>\n       <use x=\"159.033203\" xlink:href=\"#DejaVuSans-56\"/>\n      </g>\n     </g>\n    </g>\n    <g id=\"ytick_12\">\n     <g id=\"line2d_48\">\n      <path clip-path=\"url(#pd9012f9f9c)\" d=\"M 52.079375 427.915339 \nL 704.229375 427.915339 \n\" style=\"fill:none;stroke:#ffffff;stroke-linecap:square;stroke-width:0.8;\"/>\n     </g>\n     <g id=\"line2d_49\">\n      <g>\n       <use style=\"fill:#555555;stroke:#555555;stroke-width:0.8;\" x=\"52.079375\" xlink:href=\"#m9eaf52122c\" y=\"427.915339\"/>\n      </g>\n     </g>\n     <g id=\"text_28\">\n      <!-- 0.99 -->\n      <g style=\"fill:#555555;\" transform=\"translate(22.81375 431.714557)scale(0.1 -0.1)\">\n       <use xlink:href=\"#DejaVuSans-48\"/>\n       <use x=\"63.623047\" xlink:href=\"#DejaVuSans-46\"/>\n       <use x=\"95.410156\" xlink:href=\"#DejaVuSans-57\"/>\n       <use x=\"159.033203\" xlink:href=\"#DejaVuSans-57\"/>\n      </g>\n     </g>\n    </g>\n    <g id=\"ytick_13\">\n     <g id=\"line2d_50\">\n      <path clip-path=\"url(#pd9012f9f9c)\" d=\"M 52.079375 392.050841 \nL 704.229375 392.050841 \n\" style=\"fill:none;stroke:#ffffff;stroke-linecap:square;stroke-width:0.8;\"/>\n     </g>\n     <g id=\"line2d_51\">\n      <g>\n       <use style=\"fill:#555555;stroke:#555555;stroke-width:0.8;\" x=\"52.079375\" xlink:href=\"#m9eaf52122c\" y=\"392.050841\"/>\n      </g>\n     </g>\n     <g id=\"text_29\">\n      <!-- 1.00 -->\n      <g style=\"fill:#555555;\" transform=\"translate(22.81375 395.85006)scale(0.1 -0.1)\">\n       <use xlink:href=\"#DejaVuSans-49\"/>\n       <use x=\"63.623047\" xlink:href=\"#DejaVuSans-46\"/>\n       <use x=\"95.410156\" xlink:href=\"#DejaVuSans-48\"/>\n       <use x=\"159.033203\" xlink:href=\"#DejaVuSans-48\"/>\n      </g>\n     </g>\n    </g>\n    <g id=\"text_30\">\n     <!-- Accuracy -->\n     <defs>\n      <path d=\"M 34.1875 63.1875 \nL 20.796875 26.90625 \nL 47.609375 26.90625 \nz\nM 28.609375 72.90625 \nL 39.796875 72.90625 \nL 67.578125 0 \nL 57.328125 0 \nL 50.6875 18.703125 \nL 17.828125 18.703125 \nL 11.1875 0 \nL 0.78125 0 \nz\n\" id=\"DejaVuSans-65\"/>\n      <path d=\"M 8.5 21.578125 \nL 8.5 54.6875 \nL 17.484375 54.6875 \nL 17.484375 21.921875 \nQ 17.484375 14.15625 20.5 10.265625 \nQ 23.53125 6.390625 29.59375 6.390625 \nQ 36.859375 6.390625 41.078125 11.03125 \nQ 45.3125 15.671875 45.3125 23.6875 \nL 45.3125 54.6875 \nL 54.296875 54.6875 \nL 54.296875 0 \nL 45.3125 0 \nL 45.3125 8.40625 \nQ 42.046875 3.421875 37.71875 1 \nQ 33.40625 -1.421875 27.6875 -1.421875 \nQ 18.265625 -1.421875 13.375 4.4375 \nQ 8.5 10.296875 8.5 21.578125 \nz\nM 31.109375 56 \nz\n\" id=\"DejaVuSans-117\"/>\n      <path d=\"M 41.109375 46.296875 \nQ 39.59375 47.171875 37.8125 47.578125 \nQ 36.03125 48 33.890625 48 \nQ 26.265625 48 22.1875 43.046875 \nQ 18.109375 38.09375 18.109375 28.8125 \nL 18.109375 0 \nL 9.078125 0 \nL 9.078125 54.6875 \nL 18.109375 54.6875 \nL 18.109375 46.1875 \nQ 20.953125 51.171875 25.484375 53.578125 \nQ 30.03125 56 36.53125 56 \nQ 37.453125 56 38.578125 55.875 \nQ 39.703125 55.765625 41.0625 55.515625 \nz\n\" id=\"DejaVuSans-114\"/>\n      <path d=\"M 34.28125 27.484375 \nQ 23.390625 27.484375 19.1875 25 \nQ 14.984375 22.515625 14.984375 16.5 \nQ 14.984375 11.71875 18.140625 8.90625 \nQ 21.296875 6.109375 26.703125 6.109375 \nQ 34.1875 6.109375 38.703125 11.40625 \nQ 43.21875 16.703125 43.21875 25.484375 \nL 43.21875 27.484375 \nz\nM 52.203125 31.203125 \nL 52.203125 0 \nL 43.21875 0 \nL 43.21875 8.296875 \nQ 40.140625 3.328125 35.546875 0.953125 \nQ 30.953125 -1.421875 24.3125 -1.421875 \nQ 15.921875 -1.421875 10.953125 3.296875 \nQ 6 8.015625 6 15.921875 \nQ 6 25.140625 12.171875 29.828125 \nQ 18.359375 34.515625 30.609375 34.515625 \nL 43.21875 34.515625 \nL 43.21875 35.40625 \nQ 43.21875 41.609375 39.140625 45 \nQ 35.0625 48.390625 27.6875 48.390625 \nQ 23 48.390625 18.546875 47.265625 \nQ 14.109375 46.140625 10.015625 43.890625 \nL 10.015625 52.203125 \nQ 14.9375 54.109375 19.578125 55.046875 \nQ 24.21875 56 28.609375 56 \nQ 40.484375 56 46.34375 49.84375 \nQ 52.203125 43.703125 52.203125 31.203125 \nz\n\" id=\"DejaVuSans-97\"/>\n     </defs>\n     <g style=\"fill:#555555;\" transform=\"translate(16.318125 552.5355)rotate(-90)scale(0.12 -0.12)\">\n      <use xlink:href=\"#DejaVuSans-65\"/>\n      <use x=\"66.658203\" xlink:href=\"#DejaVuSans-99\"/>\n      <use x=\"121.638672\" xlink:href=\"#DejaVuSans-99\"/>\n      <use x=\"176.619141\" xlink:href=\"#DejaVuSans-117\"/>\n      <use x=\"239.998047\" xlink:href=\"#DejaVuSans-114\"/>\n      <use x=\"281.111328\" xlink:href=\"#DejaVuSans-97\"/>\n      <use x=\"342.390625\" xlink:href=\"#DejaVuSans-99\"/>\n      <use x=\"397.371094\" xlink:href=\"#DejaVuSans-121\"/>\n     </g>\n    </g>\n   </g>\n   <g id=\"line2d_52\">\n    <path clip-path=\"url(#pd9012f9f9c)\" d=\"M 81.722557 658.232659 \nL 87.711078 406.06041 \nL 93.6996 420.06998 \nL 99.688122 392.050841 \nL 105.676643 392.050841 \nL 111.665165 392.050841 \nL 117.653686 392.050841 \nL 123.642208 392.050841 \nL 129.630729 392.050841 \nL 135.619251 392.050841 \nL 141.607773 392.050841 \nL 147.596294 392.050841 \nL 153.584816 392.050841 \nL 159.573337 392.050841 \nL 165.561859 392.050841 \nL 171.550381 392.050841 \nL 177.538902 392.050841 \nL 183.527424 392.050841 \nL 189.515945 392.050841 \nL 195.504467 392.050841 \nL 201.492988 392.050841 \nL 207.48151 392.050841 \nL 213.470032 392.050841 \nL 219.458553 392.050841 \nL 225.447075 392.050841 \nL 231.435596 392.050841 \nL 237.424118 392.050841 \nL 243.412639 392.050841 \nL 249.401161 392.050841 \nL 255.389683 392.050841 \nL 261.378204 392.050841 \nL 267.366726 392.050841 \nL 273.355247 392.050841 \nL 279.343769 392.050841 \nL 285.332291 392.050841 \nL 291.320812 392.050841 \nL 297.309334 392.050841 \nL 303.297855 392.050841 \nL 309.286377 392.050841 \nL 315.274898 392.050841 \nL 321.26342 392.050841 \nL 327.251942 392.050841 \nL 333.240463 392.050841 \nL 339.228985 392.050841 \nL 345.217506 392.050841 \nL 351.206028 392.050841 \nL 357.194549 392.050841 \nL 363.183071 392.050841 \nL 369.171593 392.050841 \nL 375.160114 392.050841 \nL 381.148636 392.050841 \nL 387.137157 392.050841 \nL 393.125679 392.050841 \nL 399.114201 392.050841 \nL 405.102722 392.050841 \nL 411.091244 392.050841 \nL 417.079765 392.050841 \nL 423.068287 392.050841 \nL 429.056808 392.050841 \nL 435.04533 392.050841 \nL 441.033852 392.050841 \nL 447.022373 392.050841 \nL 453.010895 392.050841 \nL 458.999416 392.050841 \nL 464.987938 392.050841 \nL 470.976459 392.050841 \nL 476.964981 392.050841 \nL 482.953503 392.050841 \nL 488.942024 392.050841 \nL 494.930546 392.050841 \nL 500.919067 392.050841 \nL 506.907589 392.050841 \nL 512.896111 392.050841 \nL 518.884632 392.050841 \nL 524.873154 392.050841 \nL 530.861675 392.050841 \nL 536.850197 392.050841 \nL 542.838718 392.050841 \nL 548.82724 392.050841 \nL 554.815762 392.050841 \nL 560.804283 392.050841 \nL 566.792805 392.050841 \nL 572.781326 392.050841 \nL 578.769848 392.050841 \nL 584.758369 392.050841 \nL 590.746891 392.050841 \nL 596.735413 392.050841 \nL 602.723934 392.050841 \nL 608.712456 392.050841 \nL 614.700977 392.050841 \nL 620.689499 392.050841 \nL 626.678021 392.050841 \nL 632.666542 392.050841 \nL 638.655064 392.050841 \nL 644.643585 392.050841 \nL 650.632107 392.050841 \nL 656.620628 392.050841 \nL 662.60915 392.050841 \nL 668.597672 392.050841 \nL 674.586193 392.050841 \n\" style=\"fill:none;stroke:#e24a33;stroke-linecap:square;stroke-width:1.5;\"/>\n   </g>\n   <g id=\"patch_8\">\n    <path d=\"M 52.079375 671.54175 \nL 52.079375 378.74175 \n\" style=\"fill:none;stroke:#ffffff;stroke-linecap:square;stroke-linejoin:miter;\"/>\n   </g>\n   <g id=\"patch_9\">\n    <path d=\"M 704.229375 671.54175 \nL 704.229375 378.74175 \n\" style=\"fill:none;stroke:#ffffff;stroke-linecap:square;stroke-linejoin:miter;\"/>\n   </g>\n   <g id=\"patch_10\">\n    <path d=\"M 52.079375 671.54175 \nL 704.229375 671.54175 \n\" style=\"fill:none;stroke:#ffffff;stroke-linecap:square;stroke-linejoin:miter;\"/>\n   </g>\n   <g id=\"patch_11\">\n    <path d=\"M 52.079375 378.74175 \nL 704.229375 378.74175 \n\" style=\"fill:none;stroke:#ffffff;stroke-linecap:square;stroke-linejoin:miter;\"/>\n   </g>\n   <g id=\"text_31\">\n    <!-- Train accuracy -->\n    <defs>\n     <path d=\"M -0.296875 72.90625 \nL 61.375 72.90625 \nL 61.375 64.59375 \nL 35.5 64.59375 \nL 35.5 0 \nL 25.59375 0 \nL 25.59375 64.59375 \nL -0.296875 64.59375 \nz\n\" id=\"DejaVuSans-84\"/>\n     <path d=\"M 9.421875 54.6875 \nL 18.40625 54.6875 \nL 18.40625 0 \nL 9.421875 0 \nz\nM 9.421875 75.984375 \nL 18.40625 75.984375 \nL 18.40625 64.59375 \nL 9.421875 64.59375 \nz\n\" id=\"DejaVuSans-105\"/>\n     <path d=\"M 54.890625 33.015625 \nL 54.890625 0 \nL 45.90625 0 \nL 45.90625 32.71875 \nQ 45.90625 40.484375 42.875 44.328125 \nQ 39.84375 48.1875 33.796875 48.1875 \nQ 26.515625 48.1875 22.3125 43.546875 \nQ 18.109375 38.921875 18.109375 30.90625 \nL 18.109375 0 \nL 9.078125 0 \nL 9.078125 54.6875 \nL 18.109375 54.6875 \nL 18.109375 46.1875 \nQ 21.34375 51.125 25.703125 53.5625 \nQ 30.078125 56 35.796875 56 \nQ 45.21875 56 50.046875 50.171875 \nQ 54.890625 44.34375 54.890625 33.015625 \nz\n\" id=\"DejaVuSans-110\"/>\n    </defs>\n    <g transform=\"translate(326.109625 372.74175)scale(0.144 -0.144)\">\n     <use xlink:href=\"#DejaVuSans-84\"/>\n     <use x=\"46.333984\" xlink:href=\"#DejaVuSans-114\"/>\n     <use x=\"87.447266\" xlink:href=\"#DejaVuSans-97\"/>\n     <use x=\"148.726562\" xlink:href=\"#DejaVuSans-105\"/>\n     <use x=\"176.509766\" xlink:href=\"#DejaVuSans-110\"/>\n     <use x=\"239.888672\" xlink:href=\"#DejaVuSans-32\"/>\n     <use x=\"271.675781\" xlink:href=\"#DejaVuSans-97\"/>\n     <use x=\"332.955078\" xlink:href=\"#DejaVuSans-99\"/>\n     <use x=\"387.935547\" xlink:href=\"#DejaVuSans-99\"/>\n     <use x=\"442.916016\" xlink:href=\"#DejaVuSans-117\"/>\n     <use x=\"506.294922\" xlink:href=\"#DejaVuSans-114\"/>\n     <use x=\"547.408203\" xlink:href=\"#DejaVuSans-97\"/>\n     <use x=\"608.6875\" xlink:href=\"#DejaVuSans-99\"/>\n     <use x=\"663.667969\" xlink:href=\"#DejaVuSans-121\"/>\n    </g>\n   </g>\n  </g>\n </g>\n <defs>\n  <clipPath id=\"pef40297fc4\">\n   <rect height=\"292.8\" width=\"652.15\" x=\"52.079375\" y=\"24.14175\"/>\n  </clipPath>\n  <clipPath id=\"pd9012f9f9c\">\n   <rect height=\"292.8\" width=\"652.15\" x=\"52.079375\" y=\"378.74175\"/>\n  </clipPath>\n </defs>\n</svg>\n",
      "image/png": "[encoded data removed]"
     },
     "metadata": {}
    }
   ],
   "source": [
    "plot_nn_csv('plots/nn_1_est7.csv')"
   ]
  },
  {
   "cell_type": "markdown",
   "metadata": {},
   "source": [
    "## Dataset 2: 40 clases"
   ]
  },
  {
   "cell_type": "code",
   "execution_count": null,
   "metadata": {
    "tags": []
   },
   "outputs": [],
   "source": [
    "DATASET_40 = datasets['dataset_40']\n",
    "\n",
    "print(DATASET_40['x_train'].shape)"
   ]
  },
  {
   "cell_type": "markdown",
   "metadata": {},
   "source": [
    "## Dataset 3: 100 clases"
   ]
  },
  {
   "cell_type": "code",
   "execution_count": null,
   "metadata": {
    "tags": []
   },
   "outputs": [],
   "source": [
    "DATASET_100 = datasets['dataset_100']\n",
    "\n",
    "print(DATASET_100['x_train'].shape)"
   ]
  },
  {
   "cell_type": "markdown",
   "metadata": {},
   "source": [
    "## Dataset 4: 166 clases"
   ]
  },
  {
   "cell_type": "code",
   "execution_count": null,
   "metadata": {
    "tags": []
   },
   "outputs": [],
   "source": [
    "DATASET_166 = datasets['dataset_166']\n",
    "\n",
    "print(DATASET_166['x_train'].shape)"
   ]
  },
  {
   "cell_type": "markdown",
   "metadata": {},
   "source": [
    "# BASE PARA PROBAR:"
   ]
  },
  {
   "cell_type": "code",
   "execution_count": null,
   "metadata": {
    "colab": {},
    "colab_type": "code",
    "id": "itPI6wvihods",
    "tags": []
   },
   "outputs": [],
   "source": [
    "# KNN 3\n",
    "classifier = get_classifier('knn')\n",
    "classifier.fit(x_train, y_train)\n",
    "\n",
    "train_pred = classifier.predict(x_train)\n",
    "test_pred = classifier.predict(x_test)\n",
    "\n",
    "train_accuracy = accuracy_score(y_train, train_pred) * 100\n",
    "test_accuracy = accuracy_score(y_test, test_pred) * 100\n",
    "\n",
    "conf_matrix = confusion_matrix(y_test, test_pred)\n",
    "\n",
    "print(f'\\nTrain Accuracy: {train_accuracy}')\n",
    "print(f'Test Accuracy: {test_accuracy}\\n')\n",
    "\n",
    "print(conf_matrix)"
   ]
  },
  {
   "cell_type": "code",
   "execution_count": null,
   "metadata": {
    "tags": []
   },
   "outputs": [],
   "source": [
    "# SVM\n",
    "classifier = get_classifier('svm')\n",
    "classifier.fit(x_train, y_train)\n",
    "\n",
    "train_pred = classifier.predict(x_train)\n",
    "test_pred = classifier.predict(x_test)\n",
    "\n",
    "train_accuracy = accuracy_score(y_train, train_pred) * 100\n",
    "test_accuracy = accuracy_score(y_test, test_pred) * 100\n",
    "\n",
    "conf_matrix = confusion_matrix(y_test, test_pred)\n",
    "\n",
    "print(f'\\nTrain Accuracy: {train_accuracy}')\n",
    "print(f'Test Accuracy: {test_accuracy}\\n')\n",
    "\n",
    "print(conf_matrix)"
   ]
  },
  {
   "cell_type": "code",
   "execution_count": null,
   "metadata": {
    "tags": []
   },
   "outputs": [],
   "source": [
    "# ADA\n",
    "classifier = get_classifier('ada')\n",
    "classifier.fit(x_train, y_train)\n",
    "\n",
    "train_pred = classifier.predict(x_train)\n",
    "test_pred = classifier.predict(x_test)\n",
    "\n",
    "train_accuracy = accuracy_score(y_train, train_pred) * 100\n",
    "test_accuracy = accuracy_score(y_test, test_pred) * 100\n",
    "\n",
    "conf_matrix = confusion_matrix(y_test, test_pred)\n",
    "\n",
    "print(f'\\nTrain Accuracy: {train_accuracy}')\n",
    "print(f'Test Accuracy: {test_accuracy}\\n')\n",
    "\n",
    "print(conf_matrix)"
   ]
  },
  {
   "cell_type": "code",
   "execution_count": null,
   "metadata": {
    "tags": []
   },
   "outputs": [],
   "source": [
    "# NN with 2 hidden layers\n",
    "feat_dimension = x_train[0].shape[0]\n",
    "model = get_classifier('nn', options={'input_dim': feat_dimension, 'd1': 10, 'd2': 10, 'opt': 'adam'})\n",
    "\n",
    "# Labels to one-hot encoding\n",
    "categorical_train = np_utils.to_categorical(y_train, num_classes=NUM_OF_CLASSES)\n",
    "categorical_test = np_utils.to_categorical(y_test, num_classes=NUM_OF_CLASSES)\n",
    "\n",
    "# NN callbacks\n",
    "csv_logger = CSVLogger('plots/nn_1.csv', separator=',', append=False)\n",
    "early_stop = EarlyStopping(monitor='val_loss', patience=2)\n",
    "callbacks = [csv_logger, early_stop]\n",
    "\n",
    "start = datetime.now()\n",
    "\n",
    "# TODO: use validation set to keep best model\n",
    "model.fit(x_train, categorical_train, epochs=100, batch_size=4, verbose=1, callbacks=callbacks)\n",
    "\n",
    "run_time = datetime.now() - start\n",
    "print('Train time: ', run_time)\n",
    "\n",
    "(loss, accuracy) = model.evaluate(x_test, categorical_test, batch_size=4, verbose=1)\n",
    "\n",
    "print('Test Accuracy: ', accuracy * 100)"
   ]
  },
  {
   "cell_type": "code",
   "execution_count": null,
   "metadata": {},
   "outputs": [],
   "source": [
    "plot_nn_csv('plots/nn_1.csv')"
   ]
  },
  {
   "cell_type": "code",
   "execution_count": null,
   "metadata": {},
   "outputs": [],
   "source": []
  }
 ],
 "metadata": {
  "colab": {
   "collapsed_sections": [],
   "name": "proyecto.ipynb",
   "provenance": []
  },
  "kernelspec": {
   "display_name": "Python 3",
   "language": "python",
   "name": "python3"
  },
  "language_info": {
   "codemirror_mode": {
    "name": "ipython",
    "version": 3
   },
   "file_extension": ".py",
   "mimetype": "text/x-python",
   "name": "python",
   "nbconvert_exporter": "python",
   "pygments_lexer": "ipython3",
   "version": "3.7.6"
  }
 },
 "nbformat": 4,
 "nbformat_minor": 1
}
